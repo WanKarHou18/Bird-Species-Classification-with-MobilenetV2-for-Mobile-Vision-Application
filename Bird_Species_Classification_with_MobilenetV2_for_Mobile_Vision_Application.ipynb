{
  "nbformat": 4,
  "nbformat_minor": 0,
  "metadata": {
    "colab": {
      "name": "Bird Species Classification with MobilenetV2 for Mobile Vision Application",
      "provenance": [],
      "collapsed_sections": [
        "MZyMo5RmMVp8"
      ],
      "toc_visible": true
    },
    "kernelspec": {
      "display_name": "Python 3",
      "name": "python3"
    },
    "accelerator": "GPU"
  },
  "cells": [
    {
      "cell_type": "markdown",
      "metadata": {
        "id": "MZyMo5RmMVp8"
      },
      "source": [
        "# **Bird Species Classification with MobilenetV2 for Mobile Vision Application**\n",
        "To develop a light-weight model with smaller size which is MobilenetV2 that could be implemented in IDE such as android studio to develop a mobile vision application that classify the bird species to particular classes with good accuracy.\n"
      ]
    },
    {
      "cell_type": "markdown",
      "metadata": {
        "id": "yAU14O4-MyAz"
      },
      "source": [
        "# **Table of Content**\n",
        "\n",
        "\n",
        "---\n",
        "\n",
        "\n",
        "\n",
        "<font color=\"blue\">1.   Section 1: Mount to Google Drive</font>\n",
        "\n",
        "<font color=\"blue\">2.  Section 2: Initialized Libraries and Helper Functions\n",
        "  1. Import Libraries\n",
        "  2. Setup helper functions  \n",
        "    \n",
        "\n",
        "<font color=\"blue\">3.  Section 3: Create Datasets\n",
        " </font>\n",
        "\n",
        "<font color=\"blue\">4.   Section 4: Setup Modified MobileNetV2\n",
        "  1. Initialized MobileNetV2 from torch.vision\n",
        "  2. Modify MobileNetV2\n",
        "\n",
        "\n",
        "<font color=\"blue\">5.   Section 5: Model Comparison </font>\n",
        "\n",
        "<font color=\"blue\">6.   Section 6: Deep Train Orignial MobileNetV2 </font>\n",
        "\n",
        "<font color=\"blue\">7.   Section 7: Deep Train Modified MobileNetV2 </font>\n",
        "\n",
        "<font color=\"blue\">8.   Section 8: Model Evaluation on Modified MobileNetV2\n",
        "  1. Precison, Recall and F1 score\n",
        "  2. Confusion Matrix\n",
        "\n",
        "<font color=\"blue\">9.   Section 9:Compare accuracy between original    MobileNetV2 and modified MobileNetV2</font>\n",
        "\n",
        "<font color=\"blue\">10.   Section 10: Evaluate modified MobileNetV2 with Testing data</font>\n",
        "\n",
        "<font color=\"blue\">11.   Section 11: Model Deploy\n",
        "  1. Convert pytorch model into TorchScript format</font>\n",
        "\n",
        "\n",
        "\n"
      ]
    },
    {
      "cell_type": "markdown",
      "metadata": {
        "id": "JuaaaVkcKybZ"
      },
      "source": [
        "# **Section 1: Mount to Google Drive**"
      ]
    },
    {
      "cell_type": "code",
      "metadata": {
        "colab": {
          "base_uri": "https://localhost:8080/"
        },
        "id": "_Y1AfSiXpENe",
        "outputId": "999f5a6a-9b6f-4a08-c25e-5617a9e1f9bd"
      },
      "source": [
        "from google.colab import drive\n",
        "drive.mount('/content/drive')"
      ],
      "execution_count": null,
      "outputs": [
        {
          "output_type": "stream",
          "text": [
            "Mounted at /content/drive\n"
          ],
          "name": "stdout"
        }
      ]
    },
    {
      "cell_type": "code",
      "metadata": {
        "colab": {
          "base_uri": "https://localhost:8080/"
        },
        "id": "akHARw3dqFEv",
        "outputId": "764602a5-3938-4b2a-e7e2-b14038f36d1d"
      },
      "source": [
        "cd './drive/MyDrive/Deep_Learning_Assignment/'"
      ],
      "execution_count": null,
      "outputs": [
        {
          "output_type": "stream",
          "text": [
            "/content/drive/MyDrive/Deep_Learning_Assignment\n"
          ],
          "name": "stdout"
        }
      ]
    },
    {
      "cell_type": "markdown",
      "metadata": {
        "id": "MKH0EkgqUtgi"
      },
      "source": [
        "# **Section 2: Initialized Libraries and Helper**"
      ]
    },
    {
      "cell_type": "markdown",
      "metadata": {
        "id": "HFyz5o-ZQao7"
      },
      "source": [
        " **1. Import Libraries**"
      ]
    },
    {
      "cell_type": "code",
      "metadata": {
        "id": "3Fzwxe2mqPd9"
      },
      "source": [
        "import pandas as pd\n",
        "import numpy as np\n",
        "import copy\n",
        "import torch\n",
        "import torch.optim as optim\n",
        "import torchvision.transforms as transforms\n",
        "from torch.utils.data import Dataset, DataLoader\n",
        "import torchvision.models as models\n",
        "from pathlib import Path\n",
        "import matplotlib.pyplot as plt\n",
        "import torch.nn as nn\n",
        "import torch.nn.functional as F\n",
        "import torchvision\n",
        "from torchsummary import summary\n",
        "from PIL import Image\n",
        "import os\n",
        "import math\n",
        "%load_ext autoreload\n",
        "%autoreload 2\n",
        "\n",
        "###For Evaluation Part\n",
        "import numpy as np\n",
        "from sklearn.metrics import classification_report\n",
        "from sklearn.metrics import confusion_matrix\n",
        "from sklearn.metrics import precision_recall_curve\n",
        "from sklearn.metrics import accuracy_score\n",
        "from sklearn.model_selection import cross_validate\n",
        "from sklearn.model_selection import cross_val_predict\n",
        "from sklearn.metrics import precision_score, recall_score, f1_score\n",
        "from sklearn.metrics import roc_curve\n",
        "from sklearn.metrics import roc_auc_score\n",
        "\n",
        "from sklearn.metrics import plot_confusion_matrix\n",
        "import seaborn as sn\n",
        "import pandas as pd\n",
        "import matplotlib.pyplot as plt"
      ],
      "execution_count": null,
      "outputs": []
    },
    {
      "cell_type": "markdown",
      "metadata": {
        "id": "_yun2pqU4Cth"
      },
      "source": [
        "**2. Setup helper functions**"
      ]
    },
    {
      "cell_type": "code",
      "metadata": {
        "id": "MA32VhK10ZHJ"
      },
      "source": [
        "def read_image(path):\n",
        "    im = Image.open(str(path))\n",
        "    if im.getbands()[0] == 'L':\n",
        "        im = im.convert('RGB')\n",
        "    return im"
      ],
      "execution_count": null,
      "outputs": []
    },
    {
      "cell_type": "code",
      "metadata": {
        "id": "fFKmOaeX6Cz8"
      },
      "source": [
        "def show_image(img):\n",
        "  img = img.numpy().transpose(1,2,0)\n",
        "  img= denormalize(img)\n",
        "  plt.imshow(img)"
      ],
      "execution_count": null,
      "outputs": []
    },
    {
      "cell_type": "code",
      "metadata": {
        "id": "DzlrnTx5EQeG"
      },
      "source": [
        "def denormalize(img):\n",
        "  imagenet_stats = np.array([[0.485, 0.456, 0.406], [0.229, 0.224, 0.225]])\n",
        "  return img*imagenet_stats[1] + imagenet_stats[0]"
      ],
      "execution_count": null,
      "outputs": []
    },
    {
      "cell_type": "code",
      "metadata": {
        "id": "rHXlKa2B5Hy0"
      },
      "source": [
        "def visualize(dataloader, categories):\n",
        "    \"\"\"Imshow for Tensor.\"\"\"\n",
        "    x,y = next(iter(dataloader))\n",
        "    \n",
        "    fig = plt.figure(figsize=(10, 10))\n",
        "    for i in range(8):\n",
        "      inp = x[i]\n",
        "      inp = inp.numpy().transpose(1,2,0)\n",
        "      inp = denormalize(inp)\n",
        "      \n",
        "      ax = fig.add_subplot(2, 4, i+1, xticks=[], yticks=[])\n",
        "      plt.imshow(inp)\n",
        "      plt.title(str(categories[y[i]]))"
      ],
      "execution_count": null,
      "outputs": []
    },
    {
      "cell_type": "code",
      "metadata": {
        "id": "A435hUBvgSyQ"
      },
      "source": [
        "device = \"cuda\" if torch.cuda.is_available() else \"cpu\""
      ],
      "execution_count": null,
      "outputs": []
    },
    {
      "cell_type": "code",
      "metadata": {
        "id": "hiXTAF3F-FiA"
      },
      "source": [
        "loss_iter = 1\n",
        "####Training####\n",
        "def train(net, num_epochs, lr, momentum, verbose=True):\n",
        "    \n",
        "    history = []\n",
        "    labels=[]\n",
        "    \n",
        "    loss_iterations = int(np.ceil(len(train_loader)/loss_iter))\n",
        "    \n",
        "    # set the optimizer\n",
        "    optimizer = optim.SGD(net.parameters(), lr=lr, momentum=momentum)\n",
        "\n",
        "    # transfer model to GPU\n",
        "    if  torch.cuda.is_available():\n",
        "      net = net.cuda()\n",
        "    \n",
        "    # set to training mode\n",
        "    net.train()\n",
        "\n",
        "    # train the network\n",
        "    for e in range(num_epochs):    \n",
        "\n",
        "        running_loss = 0.0\n",
        "        running_count = 0.0\n",
        "\n",
        "        for i, (inputs, labels) in enumerate(train_loader):\n",
        "\n",
        "            # Clear all the gradient to 0\n",
        "            optimizer.zero_grad()\n",
        "\n",
        "            # transfer data to GPU\n",
        "            if torch.cuda.is_available():\n",
        "                inputs = inputs.cuda()\n",
        "                labels = labels.cuda()\n",
        "\n",
        "            # forward propagation to get h\n",
        "            outs = net(inputs)\n",
        "\n",
        "            # compute loss \n",
        "            loss = F.cross_entropy(outs, labels)\n",
        "\n",
        "            # backpropagation to get dw\n",
        "            loss.backward()\n",
        "\n",
        "            # update w\n",
        "            optimizer.step()\n",
        "\n",
        "            # get the loss\n",
        "            running_loss += loss.item()\n",
        "            running_count += 1\n",
        "\n",
        "             # display the averaged loss value \n",
        "            if i % loss_iterations == loss_iterations-1 or i == len(train_loader) - 1:                \n",
        "                train_loss = running_loss / running_count\n",
        "                running_loss = 0. \n",
        "                running_count = 0.\n",
        "                if verbose:\n",
        "                    print(f'[Epoch {e+1:2d}/{num_epochs:d} Iter {i+1:5d}/{len(train_loader)}]: train_loss = {train_loss:.4f}')   \n",
        "                history.append(train_loss)\n",
        "    return history"
      ],
      "execution_count": null,
      "outputs": []
    },
    {
      "cell_type": "code",
      "metadata": {
        "id": "4jVicSURhEsf"
      },
      "source": [
        "labels_list=[]\n",
        "predicted_list=[]\n",
        "def evaluate(net,loader):\n",
        "    # set to evaluation mode\n",
        "    net.eval()\n",
        "    # running_correct\n",
        "    running_corrects = 0\n",
        "    \n",
        "    for inputs, targets in loader:\n",
        "        \n",
        "        # transfer to the GPU\n",
        "        if torch.cuda.is_available():\n",
        "            inputs = inputs.cuda()\n",
        "            targets = targets.cuda()\n",
        "        \n",
        "        # perform prediction (no need to compute gradient)\n",
        "        with torch.no_grad():\n",
        "            outputs = net(inputs)\n",
        "            _, predicted = torch.max(outputs, 1)\n",
        "            running_corrects += (targets == predicted).double().sum()\n",
        "\n",
        "        \n",
        "            labels_list.append(targets)\n",
        "            predicted_list.append(predicted)\n",
        "            \n",
        "            \n",
        "    print('Accuracy = {:.2f}%'.format(100*running_corrects/len(loader.dataset)))"
      ],
      "execution_count": null,
      "outputs": []
    },
    {
      "cell_type": "code",
      "metadata": {
        "id": "zJoBnVr_9RH2"
      },
      "source": [
        "################################### Implemented by WAN KAR HOU and teammates on 4/10/2021 ###################################\n",
        "def clear_lists():\n",
        "  labels_list.clear()\n",
        "  predicted_list.clear()"
      ],
      "execution_count": null,
      "outputs": []
    },
    {
      "cell_type": "markdown",
      "metadata": {
        "id": "U8JnLmV_6mrJ"
      },
      "source": [
        "# **Section 3:Create Datasets**"
      ]
    },
    {
      "cell_type": "code",
      "metadata": {
        "id": "7m6dKBPI5LGz"
      },
      "source": [
        "labels = pd.read_csv('./CUB_19_2011/image_class_labels_19.txt', header=None, sep=\" \")\n",
        "labels.columns = [\"id\", \"label\"]\n",
        "\n",
        "classes = pd.read_csv('./CUB_19_2011/class_19.txt', header=None, sep=\" \")\n",
        "classes.columns = [\"id\", \"class\"]\n",
        "\n",
        "images = pd.read_csv('./CUB_19_2011/images_19.txt', header=None, sep=\" \")\n",
        "images.columns = [\"id\", \"name\"]\n",
        "\n",
        "categories = [x for x in classes[\"class\"]]\n",
        "\n",
        "train_test = pd.read_csv('./CUB_19_2011/train_test_valid_split_19.txt', header=None, sep=\" \")\n",
        "train_test.columns = [\"id\", \"is_train\"]"
      ],
      "execution_count": null,
      "outputs": []
    },
    {
      "cell_type": "code",
      "metadata": {
        "id": "tjqA-6VM50Wj"
      },
      "source": [
        "################################### Implemented by WAN KAR HOU and teammates on 4/10/2021 ###################################\n",
        "class CUB(Dataset):\n",
        "    def __init__(self, files_path, labels, train_test, image_name, number, \n",
        "                 transform=False):\n",
        "      \n",
        "        self.files_path = files_path\n",
        "        self.labels = labels\n",
        "        self.transform = transform\n",
        "        self.train_test = train_test\n",
        "        self.image_name = image_name\n",
        "        \n",
        "        if number==1:\n",
        "          mask = self.train_test.is_train.values == 1\n",
        "\n",
        "        elif number==2:\n",
        "          mask = self.train_test.is_train.values == 2\n",
        "          \n",
        "        else:\n",
        "          mask = self.train_test.is_train.values == 0\n",
        "        \n",
        "        \n",
        "        self.filenames = self.image_name.iloc[mask]\n",
        "        self.labels = self.labels[mask]\n",
        "        self.num_files = self.labels.shape[0]\n",
        "       \n",
        "      \n",
        "        \n",
        "    def __len__(self):\n",
        "        return self.num_files\n",
        "    \n",
        "    def __getitem__(self, index):\n",
        "        y = self.labels.iloc[index,1] - 1\n",
        "        \n",
        "        file_name = str(self.filenames.iloc[index, 1])\n",
        "        path = self.files_path/'images'/file_name\n",
        "        x = read_image(path)\n",
        "        x = self.transform(x)\n",
        "        return x,y\n"
      ],
      "execution_count": null,
      "outputs": []
    },
    {
      "cell_type": "code",
      "metadata": {
        "id": "PhCIhIj29r-b"
      },
      "source": [
        "# Data Augmentation # transform the model\n",
        "trains_transforms = transforms.Compose([\n",
        "    transforms.Resize(256),\n",
        "    transforms.RandomCrop(256),\n",
        "    transforms.RandomHorizontalFlip(),\n",
        "    transforms.ToTensor(),\n",
        "    transforms.Normalize((0.5, 0.5, 0.5), (0.5, 0.5, 0.5))\n",
        "    ])\n",
        "  \n",
        "test_transforms=transforms.Compose([\n",
        "    transforms.Resize(256),\n",
        "    transforms.RandomCrop(256),\n",
        "    transforms.RandomHorizontalFlip(),\n",
        "    transforms.ToTensor(),\n",
        "    transforms.Normalize((0.5, 0.5, 0.5), (0.5, 0.5, 0.5))\n",
        "    ])"
      ],
      "execution_count": null,
      "outputs": []
    },
    {
      "cell_type": "code",
      "metadata": {
        "colab": {
          "base_uri": "https://localhost:8080/"
        },
        "id": "3E51cAtWK3KU",
        "outputId": "83b2e55f-3a40-4f7d-cdbb-139f262a9bc3"
      },
      "source": [
        "################################### Implemented by WAN KAR HOU and teammates on 4/10/2021 ###################################\n",
        "PATH = Path('./CUB_19_2011')\n",
        "\n",
        "train_dataset = CUB(PATH, labels, train_test, images, number= 1, transform= trains_transforms)\n",
        "valid_dataset = CUB(PATH, labels, train_test, images, number= 0, transform= test_transforms)\n",
        "testing_dataset = CUB(PATH, labels, train_test, images, number=2, transform= test_transforms)\n",
        "total_dataset = train_dataset+valid_dataset+testing_dataset\n",
        "print(len(train_dataset))\n",
        "print(len(valid_dataset))\n",
        "print(len(testing_dataset))\n",
        "print((len(total_dataset)))\n"
      ],
      "execution_count": null,
      "outputs": [
        {
          "output_type": "stream",
          "text": [
            "569\n",
            "275\n",
            "274\n",
            "1118\n"
          ],
          "name": "stdout"
        }
      ]
    },
    {
      "cell_type": "code",
      "metadata": {
        "colab": {
          "base_uri": "https://localhost:8080/",
          "height": 268
        },
        "id": "q0UXIdeRCHns",
        "outputId": "44693265-0670-4c31-de2c-607e2ce8fe0d"
      },
      "source": [
        "# If you get an error, restart the runtime\n",
        "\n",
        "show_image(train_dataset[0][0])"
      ],
      "execution_count": null,
      "outputs": [
        {
          "output_type": "display_data",
          "data": {
            "image/png": "[encoded data removed]",
            "text/plain": [
              "<Figure size 432x288 with 1 Axes>"
            ]
          },
          "metadata": {
            "tags": [],
            "needs_background": "light"
          }
        }
      ]
    },
    {
      "cell_type": "code",
      "metadata": {
        "id": "xtPC9QAF68RS"
      },
      "source": [
        "train_loader = DataLoader(train_dataset, batch_size=32, shuffle=True, num_workers=2)\n",
        "valid_loader = DataLoader(valid_dataset, batch_size=32, num_workers=2)\n",
        "################################### Implemented by WAN KAR HOU and teammates on 4/10/2021 ###################################\n",
        "testing_loader = DataLoader(testing_dataset, batch_size=32, num_workers=2)"
      ],
      "execution_count": null,
      "outputs": []
    },
    {
      "cell_type": "code",
      "metadata": {
        "colab": {
          "base_uri": "https://localhost:8080/"
        },
        "id": "zPQ32WmudfjR",
        "outputId": "8584d43e-5f16-4fdf-ab45-0ed2334836e1"
      },
      "source": [
        "dataiter = iter(train_loader)\n",
        "imgs, labels = dataiter.next()\n",
        "print('Shape of imgs:', imgs.shape)\n",
        "print('Shape of labels:', labels.shape)\n",
        "print(len(train_loader))"
      ],
      "execution_count": null,
      "outputs": [
        {
          "output_type": "stream",
          "text": [
            "Shape of imgs: torch.Size([32, 3, 256, 256])\n",
            "Shape of labels: torch.Size([32])\n",
            "18\n"
          ],
          "name": "stdout"
        }
      ]
    },
    {
      "cell_type": "code",
      "metadata": {
        "colab": {
          "base_uri": "https://localhost:8080/",
          "height": 291
        },
        "id": "ObOvQwa4eAIX",
        "outputId": "c0479fc5-cd4f-4f5e-c38b-652cc437e8d2"
      },
      "source": [
        "# stack the batch image horizontally\n",
        "grid_img = torchvision.utils.make_grid(imgs, pad_value=1)\n",
        "print('Shape of imgs:', imgs.shape) \n",
        "print('Shape of grid_img:', grid_img.shape) \n",
        "# undo normalization\n",
        "grid_img = grid_img*0.5 + 0.5\n",
        "# Convert back to image: (3, 32, 138) -> (32, 138, 3)\n",
        "grid_img = np.transpose(grid_img,(1,2,0))\n",
        "# display image\n",
        "plt.imshow(grid_img)\n",
        "plt.xticks([])\n",
        "plt.yticks([])\n",
        "plt.show()\n",
        "print('labels:', labels[:64])\n"
      ],
      "execution_count": null,
      "outputs": [
        {
          "output_type": "stream",
          "text": [
            "Shape of imgs: torch.Size([32, 3, 256, 256])\n",
            "Shape of grid_img: torch.Size([3, 1034, 2066])\n"
          ],
          "name": "stdout"
        },
        {
          "output_type": "display_data",
          "data": {
            "image/png": "[encoded data removed]",
            "text/plain": [
              "<Figure size 432x288 with 1 Axes>"
            ]
          },
          "metadata": {
            "tags": []
          }
        },
        {
          "output_type": "stream",
          "text": [
            "labels: tensor([ 54,  78,  35, 107, 107,   4,  35, 107,  94,  74,  58,  89, 103, 108,\n",
            "         46,  78,  12, 107,  54,  78,  35,  90,  78,  89, 190,   4,  90, 108,\n",
            "         94, 162, 107, 103])\n"
          ],
          "name": "stdout"
        }
      ]
    },
    {
      "cell_type": "markdown",
      "metadata": {
        "id": "mshZerfzllE-"
      },
      "source": [
        "# **Section 4: Setup Modified MobileNetV2**\n",
        "\n"
      ]
    },
    {
      "cell_type": "markdown",
      "metadata": {
        "id": "tyz1vXXDVWEj"
      },
      "source": [
        " **1.Initialized MobileNetV2 from torch.vison**\n",
        "\n",
        "Initalized MobileNetV2 from torchvison.models .\n",
        "\n",
        "              "
      ]
    },
    {
      "cell_type": "code",
      "metadata": {
        "id": "ZTiSKWzfRQJI"
      },
      "source": [
        "mobile_net_ori=models.mobilenet_v2(pretrained=False)\n",
        "\n"
      ],
      "execution_count": null,
      "outputs": []
    },
    {
      "cell_type": "markdown",
      "metadata": {
        "id": "xZIU67ONdCvV"
      },
      "source": [
        "View the structure of MobileNetV2 "
      ]
    },
    {
      "cell_type": "code",
      "metadata": {
        "id": "hGsSJVi1W9Rz",
        "colab": {
          "base_uri": "https://localhost:8080/"
        },
        "outputId": "aabaa3c2-da51-4128-9c1f-4f43789f1bff"
      },
      "source": [
        "print(mobile_net_ori)"
      ],
      "execution_count": null,
      "outputs": [
        {
          "output_type": "stream",
          "text": [
            "MobileNetV2(\n",
            "  (features): Sequential(\n",
            "    (0): ConvBNActivation(\n",
            "      (0): Conv2d(3, 32, kernel_size=(3, 3), stride=(2, 2), padding=(1, 1), bias=False)\n",
            "      (1): BatchNorm2d(32, eps=1e-05, momentum=0.1, affine=True, track_running_stats=True)\n",
            "      (2): ReLU6(inplace=True)\n",
            "    )\n",
            "    (1): InvertedResidual(\n",
            "      (conv): Sequential(\n",
            "        (0): ConvBNActivation(\n",
            "          (0): Conv2d(32, 32, kernel_size=(3, 3), stride=(1, 1), padding=(1, 1), groups=32, bias=False)\n",
            "          (1): BatchNorm2d(32, eps=1e-05, momentum=0.1, affine=True, track_running_stats=True)\n",
            "          (2): ReLU6(inplace=True)\n",
            "        )\n",
            "        (1): Conv2d(32, 16, kernel_size=(1, 1), stride=(1, 1), bias=False)\n",
            "        (2): BatchNorm2d(16, eps=1e-05, momentum=0.1, affine=True, track_running_stats=True)\n",
            "      )\n",
            "    )\n",
            "    (2): InvertedResidual(\n",
            "      (conv): Sequential(\n",
            "        (0): ConvBNActivation(\n",
            "          (0): Conv2d(16, 96, kernel_size=(1, 1), stride=(1, 1), bias=False)\n",
            "          (1): BatchNorm2d(96, eps=1e-05, momentum=0.1, affine=True, track_running_stats=True)\n",
            "          (2): ReLU6(inplace=True)\n",
            "        )\n",
            "        (1): ConvBNActivation(\n",
            "          (0): Conv2d(96, 96, kernel_size=(3, 3), stride=(2, 2), padding=(1, 1), groups=96, bias=False)\n",
            "          (1): BatchNorm2d(96, eps=1e-05, momentum=0.1, affine=True, track_running_stats=True)\n",
            "          (2): ReLU6(inplace=True)\n",
            "        )\n",
            "        (2): Conv2d(96, 24, kernel_size=(1, 1), stride=(1, 1), bias=False)\n",
            "        (3): BatchNorm2d(24, eps=1e-05, momentum=0.1, affine=True, track_running_stats=True)\n",
            "      )\n",
            "    )\n",
            "    (3): InvertedResidual(\n",
            "      (conv): Sequential(\n",
            "        (0): ConvBNActivation(\n",
            "          (0): Conv2d(24, 144, kernel_size=(1, 1), stride=(1, 1), bias=False)\n",
            "          (1): BatchNorm2d(144, eps=1e-05, momentum=0.1, affine=True, track_running_stats=True)\n",
            "          (2): ReLU6(inplace=True)\n",
            "        )\n",
            "        (1): ConvBNActivation(\n",
            "          (0): Conv2d(144, 144, kernel_size=(3, 3), stride=(1, 1), padding=(1, 1), groups=144, bias=False)\n",
            "          (1): BatchNorm2d(144, eps=1e-05, momentum=0.1, affine=True, track_running_stats=True)\n",
            "          (2): ReLU6(inplace=True)\n",
            "        )\n",
            "        (2): Conv2d(144, 24, kernel_size=(1, 1), stride=(1, 1), bias=False)\n",
            "        (3): BatchNorm2d(24, eps=1e-05, momentum=0.1, affine=True, track_running_stats=True)\n",
            "      )\n",
            "    )\n",
            "    (4): InvertedResidual(\n",
            "      (conv): Sequential(\n",
            "        (0): ConvBNActivation(\n",
            "          (0): Conv2d(24, 144, kernel_size=(1, 1), stride=(1, 1), bias=False)\n",
            "          (1): BatchNorm2d(144, eps=1e-05, momentum=0.1, affine=True, track_running_stats=True)\n",
            "          (2): ReLU6(inplace=True)\n",
            "        )\n",
            "        (1): ConvBNActivation(\n",
            "          (0): Conv2d(144, 144, kernel_size=(3, 3), stride=(2, 2), padding=(1, 1), groups=144, bias=False)\n",
            "          (1): BatchNorm2d(144, eps=1e-05, momentum=0.1, affine=True, track_running_stats=True)\n",
            "          (2): ReLU6(inplace=True)\n",
            "        )\n",
            "        (2): Conv2d(144, 32, kernel_size=(1, 1), stride=(1, 1), bias=False)\n",
            "        (3): BatchNorm2d(32, eps=1e-05, momentum=0.1, affine=True, track_running_stats=True)\n",
            "      )\n",
            "    )\n",
            "    (5): InvertedResidual(\n",
            "      (conv): Sequential(\n",
            "        (0): ConvBNActivation(\n",
            "          (0): Conv2d(32, 192, kernel_size=(1, 1), stride=(1, 1), bias=False)\n",
            "          (1): BatchNorm2d(192, eps=1e-05, momentum=0.1, affine=True, track_running_stats=True)\n",
            "          (2): ReLU6(inplace=True)\n",
            "        )\n",
            "        (1): ConvBNActivation(\n",
            "          (0): Conv2d(192, 192, kernel_size=(3, 3), stride=(1, 1), padding=(1, 1), groups=192, bias=False)\n",
            "          (1): BatchNorm2d(192, eps=1e-05, momentum=0.1, affine=True, track_running_stats=True)\n",
            "          (2): ReLU6(inplace=True)\n",
            "        )\n",
            "        (2): Conv2d(192, 32, kernel_size=(1, 1), stride=(1, 1), bias=False)\n",
            "        (3): BatchNorm2d(32, eps=1e-05, momentum=0.1, affine=True, track_running_stats=True)\n",
            "      )\n",
            "    )\n",
            "    (6): InvertedResidual(\n",
            "      (conv): Sequential(\n",
            "        (0): ConvBNActivation(\n",
            "          (0): Conv2d(32, 192, kernel_size=(1, 1), stride=(1, 1), bias=False)\n",
            "          (1): BatchNorm2d(192, eps=1e-05, momentum=0.1, affine=True, track_running_stats=True)\n",
            "          (2): ReLU6(inplace=True)\n",
            "        )\n",
            "        (1): ConvBNActivation(\n",
            "          (0): Conv2d(192, 192, kernel_size=(3, 3), stride=(1, 1), padding=(1, 1), groups=192, bias=False)\n",
            "          (1): BatchNorm2d(192, eps=1e-05, momentum=0.1, affine=True, track_running_stats=True)\n",
            "          (2): ReLU6(inplace=True)\n",
            "        )\n",
            "        (2): Conv2d(192, 32, kernel_size=(1, 1), stride=(1, 1), bias=False)\n",
            "        (3): BatchNorm2d(32, eps=1e-05, momentum=0.1, affine=True, track_running_stats=True)\n",
            "      )\n",
            "    )\n",
            "    (7): InvertedResidual(\n",
            "      (conv): Sequential(\n",
            "        (0): ConvBNActivation(\n",
            "          (0): Conv2d(32, 192, kernel_size=(1, 1), stride=(1, 1), bias=False)\n",
            "          (1): BatchNorm2d(192, eps=1e-05, momentum=0.1, affine=True, track_running_stats=True)\n",
            "          (2): ReLU6(inplace=True)\n",
            "        )\n",
            "        (1): ConvBNActivation(\n",
            "          (0): Conv2d(192, 192, kernel_size=(3, 3), stride=(2, 2), padding=(1, 1), groups=192, bias=False)\n",
            "          (1): BatchNorm2d(192, eps=1e-05, momentum=0.1, affine=True, track_running_stats=True)\n",
            "          (2): ReLU6(inplace=True)\n",
            "        )\n",
            "        (2): Conv2d(192, 64, kernel_size=(1, 1), stride=(1, 1), bias=False)\n",
            "        (3): BatchNorm2d(64, eps=1e-05, momentum=0.1, affine=True, track_running_stats=True)\n",
            "      )\n",
            "    )\n",
            "    (8): InvertedResidual(\n",
            "      (conv): Sequential(\n",
            "        (0): ConvBNActivation(\n",
            "          (0): Conv2d(64, 384, kernel_size=(1, 1), stride=(1, 1), bias=False)\n",
            "          (1): BatchNorm2d(384, eps=1e-05, momentum=0.1, affine=True, track_running_stats=True)\n",
            "          (2): ReLU6(inplace=True)\n",
            "        )\n",
            "        (1): ConvBNActivation(\n",
            "          (0): Conv2d(384, 384, kernel_size=(3, 3), stride=(1, 1), padding=(1, 1), groups=384, bias=False)\n",
            "          (1): BatchNorm2d(384, eps=1e-05, momentum=0.1, affine=True, track_running_stats=True)\n",
            "          (2): ReLU6(inplace=True)\n",
            "        )\n",
            "        (2): Conv2d(384, 64, kernel_size=(1, 1), stride=(1, 1), bias=False)\n",
            "        (3): BatchNorm2d(64, eps=1e-05, momentum=0.1, affine=True, track_running_stats=True)\n",
            "      )\n",
            "    )\n",
            "    (9): InvertedResidual(\n",
            "      (conv): Sequential(\n",
            "        (0): ConvBNActivation(\n",
            "          (0): Conv2d(64, 384, kernel_size=(1, 1), stride=(1, 1), bias=False)\n",
            "          (1): BatchNorm2d(384, eps=1e-05, momentum=0.1, affine=True, track_running_stats=True)\n",
            "          (2): ReLU6(inplace=True)\n",
            "        )\n",
            "        (1): ConvBNActivation(\n",
            "          (0): Conv2d(384, 384, kernel_size=(3, 3), stride=(1, 1), padding=(1, 1), groups=384, bias=False)\n",
            "          (1): BatchNorm2d(384, eps=1e-05, momentum=0.1, affine=True, track_running_stats=True)\n",
            "          (2): ReLU6(inplace=True)\n",
            "        )\n",
            "        (2): Conv2d(384, 64, kernel_size=(1, 1), stride=(1, 1), bias=False)\n",
            "        (3): BatchNorm2d(64, eps=1e-05, momentum=0.1, affine=True, track_running_stats=True)\n",
            "      )\n",
            "    )\n",
            "    (10): InvertedResidual(\n",
            "      (conv): Sequential(\n",
            "        (0): ConvBNActivation(\n",
            "          (0): Conv2d(64, 384, kernel_size=(1, 1), stride=(1, 1), bias=False)\n",
            "          (1): BatchNorm2d(384, eps=1e-05, momentum=0.1, affine=True, track_running_stats=True)\n",
            "          (2): ReLU6(inplace=True)\n",
            "        )\n",
            "        (1): ConvBNActivation(\n",
            "          (0): Conv2d(384, 384, kernel_size=(3, 3), stride=(1, 1), padding=(1, 1), groups=384, bias=False)\n",
            "          (1): BatchNorm2d(384, eps=1e-05, momentum=0.1, affine=True, track_running_stats=True)\n",
            "          (2): ReLU6(inplace=True)\n",
            "        )\n",
            "        (2): Conv2d(384, 64, kernel_size=(1, 1), stride=(1, 1), bias=False)\n",
            "        (3): BatchNorm2d(64, eps=1e-05, momentum=0.1, affine=True, track_running_stats=True)\n",
            "      )\n",
            "    )\n",
            "    (11): InvertedResidual(\n",
            "      (conv): Sequential(\n",
            "        (0): ConvBNActivation(\n",
            "          (0): Conv2d(64, 384, kernel_size=(1, 1), stride=(1, 1), bias=False)\n",
            "          (1): BatchNorm2d(384, eps=1e-05, momentum=0.1, affine=True, track_running_stats=True)\n",
            "          (2): ReLU6(inplace=True)\n",
            "        )\n",
            "        (1): ConvBNActivation(\n",
            "          (0): Conv2d(384, 384, kernel_size=(3, 3), stride=(1, 1), padding=(1, 1), groups=384, bias=False)\n",
            "          (1): BatchNorm2d(384, eps=1e-05, momentum=0.1, affine=True, track_running_stats=True)\n",
            "          (2): ReLU6(inplace=True)\n",
            "        )\n",
            "        (2): Conv2d(384, 96, kernel_size=(1, 1), stride=(1, 1), bias=False)\n",
            "        (3): BatchNorm2d(96, eps=1e-05, momentum=0.1, affine=True, track_running_stats=True)\n",
            "      )\n",
            "    )\n",
            "    (12): InvertedResidual(\n",
            "      (conv): Sequential(\n",
            "        (0): ConvBNActivation(\n",
            "          (0): Conv2d(96, 576, kernel_size=(1, 1), stride=(1, 1), bias=False)\n",
            "          (1): BatchNorm2d(576, eps=1e-05, momentum=0.1, affine=True, track_running_stats=True)\n",
            "          (2): ReLU6(inplace=True)\n",
            "        )\n",
            "        (1): ConvBNActivation(\n",
            "          (0): Conv2d(576, 576, kernel_size=(3, 3), stride=(1, 1), padding=(1, 1), groups=576, bias=False)\n",
            "          (1): BatchNorm2d(576, eps=1e-05, momentum=0.1, affine=True, track_running_stats=True)\n",
            "          (2): ReLU6(inplace=True)\n",
            "        )\n",
            "        (2): Conv2d(576, 96, kernel_size=(1, 1), stride=(1, 1), bias=False)\n",
            "        (3): BatchNorm2d(96, eps=1e-05, momentum=0.1, affine=True, track_running_stats=True)\n",
            "      )\n",
            "    )\n",
            "    (13): InvertedResidual(\n",
            "      (conv): Sequential(\n",
            "        (0): ConvBNActivation(\n",
            "          (0): Conv2d(96, 576, kernel_size=(1, 1), stride=(1, 1), bias=False)\n",
            "          (1): BatchNorm2d(576, eps=1e-05, momentum=0.1, affine=True, track_running_stats=True)\n",
            "          (2): ReLU6(inplace=True)\n",
            "        )\n",
            "        (1): ConvBNActivation(\n",
            "          (0): Conv2d(576, 576, kernel_size=(3, 3), stride=(1, 1), padding=(1, 1), groups=576, bias=False)\n",
            "          (1): BatchNorm2d(576, eps=1e-05, momentum=0.1, affine=True, track_running_stats=True)\n",
            "          (2): ReLU6(inplace=True)\n",
            "        )\n",
            "        (2): Conv2d(576, 96, kernel_size=(1, 1), stride=(1, 1), bias=False)\n",
            "        (3): BatchNorm2d(96, eps=1e-05, momentum=0.1, affine=True, track_running_stats=True)\n",
            "      )\n",
            "    )\n",
            "    (14): InvertedResidual(\n",
            "      (conv): Sequential(\n",
            "        (0): ConvBNActivation(\n",
            "          (0): Conv2d(96, 576, kernel_size=(1, 1), stride=(1, 1), bias=False)\n",
            "          (1): BatchNorm2d(576, eps=1e-05, momentum=0.1, affine=True, track_running_stats=True)\n",
            "          (2): ReLU6(inplace=True)\n",
            "        )\n",
            "        (1): ConvBNActivation(\n",
            "          (0): Conv2d(576, 576, kernel_size=(3, 3), stride=(2, 2), padding=(1, 1), groups=576, bias=False)\n",
            "          (1): BatchNorm2d(576, eps=1e-05, momentum=0.1, affine=True, track_running_stats=True)\n",
            "          (2): ReLU6(inplace=True)\n",
            "        )\n",
            "        (2): Conv2d(576, 160, kernel_size=(1, 1), stride=(1, 1), bias=False)\n",
            "        (3): BatchNorm2d(160, eps=1e-05, momentum=0.1, affine=True, track_running_stats=True)\n",
            "      )\n",
            "    )\n",
            "    (15): InvertedResidual(\n",
            "      (conv): Sequential(\n",
            "        (0): ConvBNActivation(\n",
            "          (0): Conv2d(160, 960, kernel_size=(1, 1), stride=(1, 1), bias=False)\n",
            "          (1): BatchNorm2d(960, eps=1e-05, momentum=0.1, affine=True, track_running_stats=True)\n",
            "          (2): ReLU6(inplace=True)\n",
            "        )\n",
            "        (1): ConvBNActivation(\n",
            "          (0): Conv2d(960, 960, kernel_size=(3, 3), stride=(1, 1), padding=(1, 1), groups=960, bias=False)\n",
            "          (1): BatchNorm2d(960, eps=1e-05, momentum=0.1, affine=True, track_running_stats=True)\n",
            "          (2): ReLU6(inplace=True)\n",
            "        )\n",
            "        (2): Conv2d(960, 160, kernel_size=(1, 1), stride=(1, 1), bias=False)\n",
            "        (3): BatchNorm2d(160, eps=1e-05, momentum=0.1, affine=True, track_running_stats=True)\n",
            "      )\n",
            "    )\n",
            "    (16): InvertedResidual(\n",
            "      (conv): Sequential(\n",
            "        (0): ConvBNActivation(\n",
            "          (0): Conv2d(160, 960, kernel_size=(1, 1), stride=(1, 1), bias=False)\n",
            "          (1): BatchNorm2d(960, eps=1e-05, momentum=0.1, affine=True, track_running_stats=True)\n",
            "          (2): ReLU6(inplace=True)\n",
            "        )\n",
            "        (1): ConvBNActivation(\n",
            "          (0): Conv2d(960, 960, kernel_size=(3, 3), stride=(1, 1), padding=(1, 1), groups=960, bias=False)\n",
            "          (1): BatchNorm2d(960, eps=1e-05, momentum=0.1, affine=True, track_running_stats=True)\n",
            "          (2): ReLU6(inplace=True)\n",
            "        )\n",
            "        (2): Conv2d(960, 160, kernel_size=(1, 1), stride=(1, 1), bias=False)\n",
            "        (3): BatchNorm2d(160, eps=1e-05, momentum=0.1, affine=True, track_running_stats=True)\n",
            "      )\n",
            "    )\n",
            "    (17): InvertedResidual(\n",
            "      (conv): Sequential(\n",
            "        (0): ConvBNActivation(\n",
            "          (0): Conv2d(160, 960, kernel_size=(1, 1), stride=(1, 1), bias=False)\n",
            "          (1): BatchNorm2d(960, eps=1e-05, momentum=0.1, affine=True, track_running_stats=True)\n",
            "          (2): ReLU6(inplace=True)\n",
            "        )\n",
            "        (1): ConvBNActivation(\n",
            "          (0): Conv2d(960, 960, kernel_size=(3, 3), stride=(1, 1), padding=(1, 1), groups=960, bias=False)\n",
            "          (1): BatchNorm2d(960, eps=1e-05, momentum=0.1, affine=True, track_running_stats=True)\n",
            "          (2): ReLU6(inplace=True)\n",
            "        )\n",
            "        (2): Conv2d(960, 320, kernel_size=(1, 1), stride=(1, 1), bias=False)\n",
            "        (3): BatchNorm2d(320, eps=1e-05, momentum=0.1, affine=True, track_running_stats=True)\n",
            "      )\n",
            "    )\n",
            "    (18): ConvBNActivation(\n",
            "      (0): Conv2d(320, 1280, kernel_size=(1, 1), stride=(1, 1), bias=False)\n",
            "      (1): BatchNorm2d(1280, eps=1e-05, momentum=0.1, affine=True, track_running_stats=True)\n",
            "      (2): ReLU6(inplace=True)\n",
            "    )\n",
            "  )\n",
            "  (classifier): Sequential(\n",
            "    (0): Dropout(p=0.2, inplace=False)\n",
            "    (1): Linear(in_features=1280, out_features=1000, bias=True)\n",
            "  )\n",
            ")\n"
          ],
          "name": "stdout"
        }
      ]
    },
    {
      "cell_type": "code",
      "metadata": {
        "id": "EpzI1PNmLmLD",
        "colab": {
          "base_uri": "https://localhost:8080/"
        },
        "outputId": "9a050709-39c4-418e-edd0-a166609c3eb1"
      },
      "source": [
        "for name, _ in mobile_net_ori.named_children():\n",
        "  print(name)"
      ],
      "execution_count": null,
      "outputs": [
        {
          "output_type": "stream",
          "text": [
            "features\n",
            "classifier\n"
          ],
          "name": "stdout"
        }
      ]
    },
    {
      "cell_type": "markdown",
      "metadata": {
        "id": "O6ZgUo-AmGxG"
      },
      "source": [
        "**2. Modify MobileNetV2**\n",
        "\n",
        "Perform Modification on MobileNetV2 by Adding Global Pooling Layer and change the classifier layer with the purpose of prevent overfiting and  reducing model paramater thus make the size of model smaller , so that it can be suitable to be implemented in mobile application"
      ]
    },
    {
      "cell_type": "code",
      "metadata": {
        "id": "TW-B0MohsNWi"
      },
      "source": [
        "################################### Implemented by WAN KAR HOU and teammates on 4/10/2021 ###################################\n",
        "mobile_net_modified=models.mobilenet_v2(pretrained=False)\n",
        "\n",
        "module=nn.Sequential(\n",
        "          nn.AdaptiveAvgPool2d((1,1)).cuda(),\n",
        "            )\n",
        "mobile_net_modified.features.add_module(\"AVG\",module)\n",
        "\n",
        "mobile_net_modified.classifier=nn.Sequential(\n",
        "            nn.Dropout(0.2),\n",
        "            nn.Linear(1280,800),\n",
        "  )\n",
        "mobile_net_modified.fc =nn.Sequential(\n",
        "                          nn.Linear(800,19),\n",
        "                        )\n"
      ],
      "execution_count": null,
      "outputs": []
    },
    {
      "cell_type": "markdown",
      "metadata": {
        "id": "Dxt1CYYJevIQ"
      },
      "source": [
        "View the structure of lastest modified model"
      ]
    },
    {
      "cell_type": "code",
      "metadata": {
        "id": "V97LE2E_n2ht",
        "colab": {
          "base_uri": "https://localhost:8080/"
        },
        "outputId": "64fbf1fc-ecf3-4a23-bc8c-8083e4a8ec81"
      },
      "source": [
        "print(mobile_net_modified)"
      ],
      "execution_count": null,
      "outputs": [
        {
          "output_type": "stream",
          "text": [
            "MobileNetV2(\n",
            "  (features): Sequential(\n",
            "    (0): ConvBNActivation(\n",
            "      (0): Conv2d(3, 32, kernel_size=(3, 3), stride=(2, 2), padding=(1, 1), bias=False)\n",
            "      (1): BatchNorm2d(32, eps=1e-05, momentum=0.1, affine=True, track_running_stats=True)\n",
            "      (2): ReLU6(inplace=True)\n",
            "    )\n",
            "    (1): InvertedResidual(\n",
            "      (conv): Sequential(\n",
            "        (0): ConvBNActivation(\n",
            "          (0): Conv2d(32, 32, kernel_size=(3, 3), stride=(1, 1), padding=(1, 1), groups=32, bias=False)\n",
            "          (1): BatchNorm2d(32, eps=1e-05, momentum=0.1, affine=True, track_running_stats=True)\n",
            "          (2): ReLU6(inplace=True)\n",
            "        )\n",
            "        (1): Conv2d(32, 16, kernel_size=(1, 1), stride=(1, 1), bias=False)\n",
            "        (2): BatchNorm2d(16, eps=1e-05, momentum=0.1, affine=True, track_running_stats=True)\n",
            "      )\n",
            "    )\n",
            "    (2): InvertedResidual(\n",
            "      (conv): Sequential(\n",
            "        (0): ConvBNActivation(\n",
            "          (0): Conv2d(16, 96, kernel_size=(1, 1), stride=(1, 1), bias=False)\n",
            "          (1): BatchNorm2d(96, eps=1e-05, momentum=0.1, affine=True, track_running_stats=True)\n",
            "          (2): ReLU6(inplace=True)\n",
            "        )\n",
            "        (1): ConvBNActivation(\n",
            "          (0): Conv2d(96, 96, kernel_size=(3, 3), stride=(2, 2), padding=(1, 1), groups=96, bias=False)\n",
            "          (1): BatchNorm2d(96, eps=1e-05, momentum=0.1, affine=True, track_running_stats=True)\n",
            "          (2): ReLU6(inplace=True)\n",
            "        )\n",
            "        (2): Conv2d(96, 24, kernel_size=(1, 1), stride=(1, 1), bias=False)\n",
            "        (3): BatchNorm2d(24, eps=1e-05, momentum=0.1, affine=True, track_running_stats=True)\n",
            "      )\n",
            "    )\n",
            "    (3): InvertedResidual(\n",
            "      (conv): Sequential(\n",
            "        (0): ConvBNActivation(\n",
            "          (0): Conv2d(24, 144, kernel_size=(1, 1), stride=(1, 1), bias=False)\n",
            "          (1): BatchNorm2d(144, eps=1e-05, momentum=0.1, affine=True, track_running_stats=True)\n",
            "          (2): ReLU6(inplace=True)\n",
            "        )\n",
            "        (1): ConvBNActivation(\n",
            "          (0): Conv2d(144, 144, kernel_size=(3, 3), stride=(1, 1), padding=(1, 1), groups=144, bias=False)\n",
            "          (1): BatchNorm2d(144, eps=1e-05, momentum=0.1, affine=True, track_running_stats=True)\n",
            "          (2): ReLU6(inplace=True)\n",
            "        )\n",
            "        (2): Conv2d(144, 24, kernel_size=(1, 1), stride=(1, 1), bias=False)\n",
            "        (3): BatchNorm2d(24, eps=1e-05, momentum=0.1, affine=True, track_running_stats=True)\n",
            "      )\n",
            "    )\n",
            "    (4): InvertedResidual(\n",
            "      (conv): Sequential(\n",
            "        (0): ConvBNActivation(\n",
            "          (0): Conv2d(24, 144, kernel_size=(1, 1), stride=(1, 1), bias=False)\n",
            "          (1): BatchNorm2d(144, eps=1e-05, momentum=0.1, affine=True, track_running_stats=True)\n",
            "          (2): ReLU6(inplace=True)\n",
            "        )\n",
            "        (1): ConvBNActivation(\n",
            "          (0): Conv2d(144, 144, kernel_size=(3, 3), stride=(2, 2), padding=(1, 1), groups=144, bias=False)\n",
            "          (1): BatchNorm2d(144, eps=1e-05, momentum=0.1, affine=True, track_running_stats=True)\n",
            "          (2): ReLU6(inplace=True)\n",
            "        )\n",
            "        (2): Conv2d(144, 32, kernel_size=(1, 1), stride=(1, 1), bias=False)\n",
            "        (3): BatchNorm2d(32, eps=1e-05, momentum=0.1, affine=True, track_running_stats=True)\n",
            "      )\n",
            "    )\n",
            "    (5): InvertedResidual(\n",
            "      (conv): Sequential(\n",
            "        (0): ConvBNActivation(\n",
            "          (0): Conv2d(32, 192, kernel_size=(1, 1), stride=(1, 1), bias=False)\n",
            "          (1): BatchNorm2d(192, eps=1e-05, momentum=0.1, affine=True, track_running_stats=True)\n",
            "          (2): ReLU6(inplace=True)\n",
            "        )\n",
            "        (1): ConvBNActivation(\n",
            "          (0): Conv2d(192, 192, kernel_size=(3, 3), stride=(1, 1), padding=(1, 1), groups=192, bias=False)\n",
            "          (1): BatchNorm2d(192, eps=1e-05, momentum=0.1, affine=True, track_running_stats=True)\n",
            "          (2): ReLU6(inplace=True)\n",
            "        )\n",
            "        (2): Conv2d(192, 32, kernel_size=(1, 1), stride=(1, 1), bias=False)\n",
            "        (3): BatchNorm2d(32, eps=1e-05, momentum=0.1, affine=True, track_running_stats=True)\n",
            "      )\n",
            "    )\n",
            "    (6): InvertedResidual(\n",
            "      (conv): Sequential(\n",
            "        (0): ConvBNActivation(\n",
            "          (0): Conv2d(32, 192, kernel_size=(1, 1), stride=(1, 1), bias=False)\n",
            "          (1): BatchNorm2d(192, eps=1e-05, momentum=0.1, affine=True, track_running_stats=True)\n",
            "          (2): ReLU6(inplace=True)\n",
            "        )\n",
            "        (1): ConvBNActivation(\n",
            "          (0): Conv2d(192, 192, kernel_size=(3, 3), stride=(1, 1), padding=(1, 1), groups=192, bias=False)\n",
            "          (1): BatchNorm2d(192, eps=1e-05, momentum=0.1, affine=True, track_running_stats=True)\n",
            "          (2): ReLU6(inplace=True)\n",
            "        )\n",
            "        (2): Conv2d(192, 32, kernel_size=(1, 1), stride=(1, 1), bias=False)\n",
            "        (3): BatchNorm2d(32, eps=1e-05, momentum=0.1, affine=True, track_running_stats=True)\n",
            "      )\n",
            "    )\n",
            "    (7): InvertedResidual(\n",
            "      (conv): Sequential(\n",
            "        (0): ConvBNActivation(\n",
            "          (0): Conv2d(32, 192, kernel_size=(1, 1), stride=(1, 1), bias=False)\n",
            "          (1): BatchNorm2d(192, eps=1e-05, momentum=0.1, affine=True, track_running_stats=True)\n",
            "          (2): ReLU6(inplace=True)\n",
            "        )\n",
            "        (1): ConvBNActivation(\n",
            "          (0): Conv2d(192, 192, kernel_size=(3, 3), stride=(2, 2), padding=(1, 1), groups=192, bias=False)\n",
            "          (1): BatchNorm2d(192, eps=1e-05, momentum=0.1, affine=True, track_running_stats=True)\n",
            "          (2): ReLU6(inplace=True)\n",
            "        )\n",
            "        (2): Conv2d(192, 64, kernel_size=(1, 1), stride=(1, 1), bias=False)\n",
            "        (3): BatchNorm2d(64, eps=1e-05, momentum=0.1, affine=True, track_running_stats=True)\n",
            "      )\n",
            "    )\n",
            "    (8): InvertedResidual(\n",
            "      (conv): Sequential(\n",
            "        (0): ConvBNActivation(\n",
            "          (0): Conv2d(64, 384, kernel_size=(1, 1), stride=(1, 1), bias=False)\n",
            "          (1): BatchNorm2d(384, eps=1e-05, momentum=0.1, affine=True, track_running_stats=True)\n",
            "          (2): ReLU6(inplace=True)\n",
            "        )\n",
            "        (1): ConvBNActivation(\n",
            "          (0): Conv2d(384, 384, kernel_size=(3, 3), stride=(1, 1), padding=(1, 1), groups=384, bias=False)\n",
            "          (1): BatchNorm2d(384, eps=1e-05, momentum=0.1, affine=True, track_running_stats=True)\n",
            "          (2): ReLU6(inplace=True)\n",
            "        )\n",
            "        (2): Conv2d(384, 64, kernel_size=(1, 1), stride=(1, 1), bias=False)\n",
            "        (3): BatchNorm2d(64, eps=1e-05, momentum=0.1, affine=True, track_running_stats=True)\n",
            "      )\n",
            "    )\n",
            "    (9): InvertedResidual(\n",
            "      (conv): Sequential(\n",
            "        (0): ConvBNActivation(\n",
            "          (0): Conv2d(64, 384, kernel_size=(1, 1), stride=(1, 1), bias=False)\n",
            "          (1): BatchNorm2d(384, eps=1e-05, momentum=0.1, affine=True, track_running_stats=True)\n",
            "          (2): ReLU6(inplace=True)\n",
            "        )\n",
            "        (1): ConvBNActivation(\n",
            "          (0): Conv2d(384, 384, kernel_size=(3, 3), stride=(1, 1), padding=(1, 1), groups=384, bias=False)\n",
            "          (1): BatchNorm2d(384, eps=1e-05, momentum=0.1, affine=True, track_running_stats=True)\n",
            "          (2): ReLU6(inplace=True)\n",
            "        )\n",
            "        (2): Conv2d(384, 64, kernel_size=(1, 1), stride=(1, 1), bias=False)\n",
            "        (3): BatchNorm2d(64, eps=1e-05, momentum=0.1, affine=True, track_running_stats=True)\n",
            "      )\n",
            "    )\n",
            "    (10): InvertedResidual(\n",
            "      (conv): Sequential(\n",
            "        (0): ConvBNActivation(\n",
            "          (0): Conv2d(64, 384, kernel_size=(1, 1), stride=(1, 1), bias=False)\n",
            "          (1): BatchNorm2d(384, eps=1e-05, momentum=0.1, affine=True, track_running_stats=True)\n",
            "          (2): ReLU6(inplace=True)\n",
            "        )\n",
            "        (1): ConvBNActivation(\n",
            "          (0): Conv2d(384, 384, kernel_size=(3, 3), stride=(1, 1), padding=(1, 1), groups=384, bias=False)\n",
            "          (1): BatchNorm2d(384, eps=1e-05, momentum=0.1, affine=True, track_running_stats=True)\n",
            "          (2): ReLU6(inplace=True)\n",
            "        )\n",
            "        (2): Conv2d(384, 64, kernel_size=(1, 1), stride=(1, 1), bias=False)\n",
            "        (3): BatchNorm2d(64, eps=1e-05, momentum=0.1, affine=True, track_running_stats=True)\n",
            "      )\n",
            "    )\n",
            "    (11): InvertedResidual(\n",
            "      (conv): Sequential(\n",
            "        (0): ConvBNActivation(\n",
            "          (0): Conv2d(64, 384, kernel_size=(1, 1), stride=(1, 1), bias=False)\n",
            "          (1): BatchNorm2d(384, eps=1e-05, momentum=0.1, affine=True, track_running_stats=True)\n",
            "          (2): ReLU6(inplace=True)\n",
            "        )\n",
            "        (1): ConvBNActivation(\n",
            "          (0): Conv2d(384, 384, kernel_size=(3, 3), stride=(1, 1), padding=(1, 1), groups=384, bias=False)\n",
            "          (1): BatchNorm2d(384, eps=1e-05, momentum=0.1, affine=True, track_running_stats=True)\n",
            "          (2): ReLU6(inplace=True)\n",
            "        )\n",
            "        (2): Conv2d(384, 96, kernel_size=(1, 1), stride=(1, 1), bias=False)\n",
            "        (3): BatchNorm2d(96, eps=1e-05, momentum=0.1, affine=True, track_running_stats=True)\n",
            "      )\n",
            "    )\n",
            "    (12): InvertedResidual(\n",
            "      (conv): Sequential(\n",
            "        (0): ConvBNActivation(\n",
            "          (0): Conv2d(96, 576, kernel_size=(1, 1), stride=(1, 1), bias=False)\n",
            "          (1): BatchNorm2d(576, eps=1e-05, momentum=0.1, affine=True, track_running_stats=True)\n",
            "          (2): ReLU6(inplace=True)\n",
            "        )\n",
            "        (1): ConvBNActivation(\n",
            "          (0): Conv2d(576, 576, kernel_size=(3, 3), stride=(1, 1), padding=(1, 1), groups=576, bias=False)\n",
            "          (1): BatchNorm2d(576, eps=1e-05, momentum=0.1, affine=True, track_running_stats=True)\n",
            "          (2): ReLU6(inplace=True)\n",
            "        )\n",
            "        (2): Conv2d(576, 96, kernel_size=(1, 1), stride=(1, 1), bias=False)\n",
            "        (3): BatchNorm2d(96, eps=1e-05, momentum=0.1, affine=True, track_running_stats=True)\n",
            "      )\n",
            "    )\n",
            "    (13): InvertedResidual(\n",
            "      (conv): Sequential(\n",
            "        (0): ConvBNActivation(\n",
            "          (0): Conv2d(96, 576, kernel_size=(1, 1), stride=(1, 1), bias=False)\n",
            "          (1): BatchNorm2d(576, eps=1e-05, momentum=0.1, affine=True, track_running_stats=True)\n",
            "          (2): ReLU6(inplace=True)\n",
            "        )\n",
            "        (1): ConvBNActivation(\n",
            "          (0): Conv2d(576, 576, kernel_size=(3, 3), stride=(1, 1), padding=(1, 1), groups=576, bias=False)\n",
            "          (1): BatchNorm2d(576, eps=1e-05, momentum=0.1, affine=True, track_running_stats=True)\n",
            "          (2): ReLU6(inplace=True)\n",
            "        )\n",
            "        (2): Conv2d(576, 96, kernel_size=(1, 1), stride=(1, 1), bias=False)\n",
            "        (3): BatchNorm2d(96, eps=1e-05, momentum=0.1, affine=True, track_running_stats=True)\n",
            "      )\n",
            "    )\n",
            "    (14): InvertedResidual(\n",
            "      (conv): Sequential(\n",
            "        (0): ConvBNActivation(\n",
            "          (0): Conv2d(96, 576, kernel_size=(1, 1), stride=(1, 1), bias=False)\n",
            "          (1): BatchNorm2d(576, eps=1e-05, momentum=0.1, affine=True, track_running_stats=True)\n",
            "          (2): ReLU6(inplace=True)\n",
            "        )\n",
            "        (1): ConvBNActivation(\n",
            "          (0): Conv2d(576, 576, kernel_size=(3, 3), stride=(2, 2), padding=(1, 1), groups=576, bias=False)\n",
            "          (1): BatchNorm2d(576, eps=1e-05, momentum=0.1, affine=True, track_running_stats=True)\n",
            "          (2): ReLU6(inplace=True)\n",
            "        )\n",
            "        (2): Conv2d(576, 160, kernel_size=(1, 1), stride=(1, 1), bias=False)\n",
            "        (3): BatchNorm2d(160, eps=1e-05, momentum=0.1, affine=True, track_running_stats=True)\n",
            "      )\n",
            "    )\n",
            "    (15): InvertedResidual(\n",
            "      (conv): Sequential(\n",
            "        (0): ConvBNActivation(\n",
            "          (0): Conv2d(160, 960, kernel_size=(1, 1), stride=(1, 1), bias=False)\n",
            "          (1): BatchNorm2d(960, eps=1e-05, momentum=0.1, affine=True, track_running_stats=True)\n",
            "          (2): ReLU6(inplace=True)\n",
            "        )\n",
            "        (1): ConvBNActivation(\n",
            "          (0): Conv2d(960, 960, kernel_size=(3, 3), stride=(1, 1), padding=(1, 1), groups=960, bias=False)\n",
            "          (1): BatchNorm2d(960, eps=1e-05, momentum=0.1, affine=True, track_running_stats=True)\n",
            "          (2): ReLU6(inplace=True)\n",
            "        )\n",
            "        (2): Conv2d(960, 160, kernel_size=(1, 1), stride=(1, 1), bias=False)\n",
            "        (3): BatchNorm2d(160, eps=1e-05, momentum=0.1, affine=True, track_running_stats=True)\n",
            "      )\n",
            "    )\n",
            "    (16): InvertedResidual(\n",
            "      (conv): Sequential(\n",
            "        (0): ConvBNActivation(\n",
            "          (0): Conv2d(160, 960, kernel_size=(1, 1), stride=(1, 1), bias=False)\n",
            "          (1): BatchNorm2d(960, eps=1e-05, momentum=0.1, affine=True, track_running_stats=True)\n",
            "          (2): ReLU6(inplace=True)\n",
            "        )\n",
            "        (1): ConvBNActivation(\n",
            "          (0): Conv2d(960, 960, kernel_size=(3, 3), stride=(1, 1), padding=(1, 1), groups=960, bias=False)\n",
            "          (1): BatchNorm2d(960, eps=1e-05, momentum=0.1, affine=True, track_running_stats=True)\n",
            "          (2): ReLU6(inplace=True)\n",
            "        )\n",
            "        (2): Conv2d(960, 160, kernel_size=(1, 1), stride=(1, 1), bias=False)\n",
            "        (3): BatchNorm2d(160, eps=1e-05, momentum=0.1, affine=True, track_running_stats=True)\n",
            "      )\n",
            "    )\n",
            "    (17): InvertedResidual(\n",
            "      (conv): Sequential(\n",
            "        (0): ConvBNActivation(\n",
            "          (0): Conv2d(160, 960, kernel_size=(1, 1), stride=(1, 1), bias=False)\n",
            "          (1): BatchNorm2d(960, eps=1e-05, momentum=0.1, affine=True, track_running_stats=True)\n",
            "          (2): ReLU6(inplace=True)\n",
            "        )\n",
            "        (1): ConvBNActivation(\n",
            "          (0): Conv2d(960, 960, kernel_size=(3, 3), stride=(1, 1), padding=(1, 1), groups=960, bias=False)\n",
            "          (1): BatchNorm2d(960, eps=1e-05, momentum=0.1, affine=True, track_running_stats=True)\n",
            "          (2): ReLU6(inplace=True)\n",
            "        )\n",
            "        (2): Conv2d(960, 320, kernel_size=(1, 1), stride=(1, 1), bias=False)\n",
            "        (3): BatchNorm2d(320, eps=1e-05, momentum=0.1, affine=True, track_running_stats=True)\n",
            "      )\n",
            "    )\n",
            "    (18): ConvBNActivation(\n",
            "      (0): Conv2d(320, 1280, kernel_size=(1, 1), stride=(1, 1), bias=False)\n",
            "      (1): BatchNorm2d(1280, eps=1e-05, momentum=0.1, affine=True, track_running_stats=True)\n",
            "      (2): ReLU6(inplace=True)\n",
            "    )\n",
            "    (AVG): Sequential(\n",
            "      (0): AdaptiveAvgPool2d(output_size=(1, 1))\n",
            "    )\n",
            "  )\n",
            "  (classifier): Sequential(\n",
            "    (0): Dropout(p=0.2, inplace=False)\n",
            "    (1): Linear(in_features=1280, out_features=800, bias=True)\n",
            "  )\n",
            "  (fc): Sequential(\n",
            "    (0): Linear(in_features=800, out_features=19, bias=True)\n",
            "  )\n",
            ")\n"
          ],
          "name": "stdout"
        }
      ]
    },
    {
      "cell_type": "code",
      "metadata": {
        "id": "5AUNcw4v3t0X",
        "colab": {
          "base_uri": "https://localhost:8080/"
        },
        "outputId": "4848bace-4e89-4be0-80d7-1051320f8ecc"
      },
      "source": [
        "for name, _ in mobile_net_modified.named_children():\n",
        "  print(name)"
      ],
      "execution_count": null,
      "outputs": [
        {
          "output_type": "stream",
          "text": [
            "features\n",
            "classifier\n",
            "fc\n"
          ],
          "name": "stdout"
        }
      ]
    },
    {
      "cell_type": "markdown",
      "metadata": {
        "id": "G5x8btRycKPR"
      },
      "source": [
        "# **Section 5: Models Sizes Comparison**\n",
        "\n",
        "Compare the size of model of both original MobileNetV2 and modified MobileNetV2\n",
        "\n",
        "Modified MobileNetV2 had lower model parameters and smaller size compared to original MobileNetV2, with around 200,000 params lesser and 1MB smaller"
      ]
    },
    {
      "cell_type": "markdown",
      "metadata": {
        "id": "Kc1ZoqlmVZYm"
      },
      "source": [
        "**Original MobileNetV2**"
      ]
    },
    {
      "cell_type": "code",
      "metadata": {
        "colab": {
          "base_uri": "https://localhost:8080/"
        },
        "id": "X_4_DAxBWnQf",
        "outputId": "49a4b625-afd3-43d8-d387-c111e7792404"
      },
      "source": [
        "summary(mobile_net_ori, (3, 256, 256), device=\"cpu\")"
      ],
      "execution_count": null,
      "outputs": [
        {
          "output_type": "stream",
          "text": [
            "----------------------------------------------------------------\n",
            "        Layer (type)               Output Shape         Param #\n",
            "================================================================\n",
            "            Conv2d-1         [-1, 32, 128, 128]             864\n",
            "       BatchNorm2d-2         [-1, 32, 128, 128]              64\n",
            "             ReLU6-3         [-1, 32, 128, 128]               0\n",
            "            Conv2d-4         [-1, 32, 128, 128]             288\n",
            "       BatchNorm2d-5         [-1, 32, 128, 128]              64\n",
            "             ReLU6-6         [-1, 32, 128, 128]               0\n",
            "            Conv2d-7         [-1, 16, 128, 128]             512\n",
            "       BatchNorm2d-8         [-1, 16, 128, 128]              32\n",
            "  InvertedResidual-9         [-1, 16, 128, 128]               0\n",
            "           Conv2d-10         [-1, 96, 128, 128]           1,536\n",
            "      BatchNorm2d-11         [-1, 96, 128, 128]             192\n",
            "            ReLU6-12         [-1, 96, 128, 128]               0\n",
            "           Conv2d-13           [-1, 96, 64, 64]             864\n",
            "      BatchNorm2d-14           [-1, 96, 64, 64]             192\n",
            "            ReLU6-15           [-1, 96, 64, 64]               0\n",
            "           Conv2d-16           [-1, 24, 64, 64]           2,304\n",
            "      BatchNorm2d-17           [-1, 24, 64, 64]              48\n",
            " InvertedResidual-18           [-1, 24, 64, 64]               0\n",
            "           Conv2d-19          [-1, 144, 64, 64]           3,456\n",
            "      BatchNorm2d-20          [-1, 144, 64, 64]             288\n",
            "            ReLU6-21          [-1, 144, 64, 64]               0\n",
            "           Conv2d-22          [-1, 144, 64, 64]           1,296\n",
            "      BatchNorm2d-23          [-1, 144, 64, 64]             288\n",
            "            ReLU6-24          [-1, 144, 64, 64]               0\n",
            "           Conv2d-25           [-1, 24, 64, 64]           3,456\n",
            "      BatchNorm2d-26           [-1, 24, 64, 64]              48\n",
            " InvertedResidual-27           [-1, 24, 64, 64]               0\n",
            "           Conv2d-28          [-1, 144, 64, 64]           3,456\n",
            "      BatchNorm2d-29          [-1, 144, 64, 64]             288\n",
            "            ReLU6-30          [-1, 144, 64, 64]               0\n",
            "           Conv2d-31          [-1, 144, 32, 32]           1,296\n",
            "      BatchNorm2d-32          [-1, 144, 32, 32]             288\n",
            "            ReLU6-33          [-1, 144, 32, 32]               0\n",
            "           Conv2d-34           [-1, 32, 32, 32]           4,608\n",
            "      BatchNorm2d-35           [-1, 32, 32, 32]              64\n",
            " InvertedResidual-36           [-1, 32, 32, 32]               0\n",
            "           Conv2d-37          [-1, 192, 32, 32]           6,144\n",
            "      BatchNorm2d-38          [-1, 192, 32, 32]             384\n",
            "            ReLU6-39          [-1, 192, 32, 32]               0\n",
            "           Conv2d-40          [-1, 192, 32, 32]           1,728\n",
            "      BatchNorm2d-41          [-1, 192, 32, 32]             384\n",
            "            ReLU6-42          [-1, 192, 32, 32]               0\n",
            "           Conv2d-43           [-1, 32, 32, 32]           6,144\n",
            "      BatchNorm2d-44           [-1, 32, 32, 32]              64\n",
            " InvertedResidual-45           [-1, 32, 32, 32]               0\n",
            "           Conv2d-46          [-1, 192, 32, 32]           6,144\n",
            "      BatchNorm2d-47          [-1, 192, 32, 32]             384\n",
            "            ReLU6-48          [-1, 192, 32, 32]               0\n",
            "           Conv2d-49          [-1, 192, 32, 32]           1,728\n",
            "      BatchNorm2d-50          [-1, 192, 32, 32]             384\n",
            "            ReLU6-51          [-1, 192, 32, 32]               0\n",
            "           Conv2d-52           [-1, 32, 32, 32]           6,144\n",
            "      BatchNorm2d-53           [-1, 32, 32, 32]              64\n",
            " InvertedResidual-54           [-1, 32, 32, 32]               0\n",
            "           Conv2d-55          [-1, 192, 32, 32]           6,144\n",
            "      BatchNorm2d-56          [-1, 192, 32, 32]             384\n",
            "            ReLU6-57          [-1, 192, 32, 32]               0\n",
            "           Conv2d-58          [-1, 192, 16, 16]           1,728\n",
            "      BatchNorm2d-59          [-1, 192, 16, 16]             384\n",
            "            ReLU6-60          [-1, 192, 16, 16]               0\n",
            "           Conv2d-61           [-1, 64, 16, 16]          12,288\n",
            "      BatchNorm2d-62           [-1, 64, 16, 16]             128\n",
            " InvertedResidual-63           [-1, 64, 16, 16]               0\n",
            "           Conv2d-64          [-1, 384, 16, 16]          24,576\n",
            "      BatchNorm2d-65          [-1, 384, 16, 16]             768\n",
            "            ReLU6-66          [-1, 384, 16, 16]               0\n",
            "           Conv2d-67          [-1, 384, 16, 16]           3,456\n",
            "      BatchNorm2d-68          [-1, 384, 16, 16]             768\n",
            "            ReLU6-69          [-1, 384, 16, 16]               0\n",
            "           Conv2d-70           [-1, 64, 16, 16]          24,576\n",
            "      BatchNorm2d-71           [-1, 64, 16, 16]             128\n",
            " InvertedResidual-72           [-1, 64, 16, 16]               0\n",
            "           Conv2d-73          [-1, 384, 16, 16]          24,576\n",
            "      BatchNorm2d-74          [-1, 384, 16, 16]             768\n",
            "            ReLU6-75          [-1, 384, 16, 16]               0\n",
            "           Conv2d-76          [-1, 384, 16, 16]           3,456\n",
            "      BatchNorm2d-77          [-1, 384, 16, 16]             768\n",
            "            ReLU6-78          [-1, 384, 16, 16]               0\n",
            "           Conv2d-79           [-1, 64, 16, 16]          24,576\n",
            "      BatchNorm2d-80           [-1, 64, 16, 16]             128\n",
            " InvertedResidual-81           [-1, 64, 16, 16]               0\n",
            "           Conv2d-82          [-1, 384, 16, 16]          24,576\n",
            "      BatchNorm2d-83          [-1, 384, 16, 16]             768\n",
            "            ReLU6-84          [-1, 384, 16, 16]               0\n",
            "           Conv2d-85          [-1, 384, 16, 16]           3,456\n",
            "      BatchNorm2d-86          [-1, 384, 16, 16]             768\n",
            "            ReLU6-87          [-1, 384, 16, 16]               0\n",
            "           Conv2d-88           [-1, 64, 16, 16]          24,576\n",
            "      BatchNorm2d-89           [-1, 64, 16, 16]             128\n",
            " InvertedResidual-90           [-1, 64, 16, 16]               0\n",
            "           Conv2d-91          [-1, 384, 16, 16]          24,576\n",
            "      BatchNorm2d-92          [-1, 384, 16, 16]             768\n",
            "            ReLU6-93          [-1, 384, 16, 16]               0\n",
            "           Conv2d-94          [-1, 384, 16, 16]           3,456\n",
            "      BatchNorm2d-95          [-1, 384, 16, 16]             768\n",
            "            ReLU6-96          [-1, 384, 16, 16]               0\n",
            "           Conv2d-97           [-1, 96, 16, 16]          36,864\n",
            "      BatchNorm2d-98           [-1, 96, 16, 16]             192\n",
            " InvertedResidual-99           [-1, 96, 16, 16]               0\n",
            "          Conv2d-100          [-1, 576, 16, 16]          55,296\n",
            "     BatchNorm2d-101          [-1, 576, 16, 16]           1,152\n",
            "           ReLU6-102          [-1, 576, 16, 16]               0\n",
            "          Conv2d-103          [-1, 576, 16, 16]           5,184\n",
            "     BatchNorm2d-104          [-1, 576, 16, 16]           1,152\n",
            "           ReLU6-105          [-1, 576, 16, 16]               0\n",
            "          Conv2d-106           [-1, 96, 16, 16]          55,296\n",
            "     BatchNorm2d-107           [-1, 96, 16, 16]             192\n",
            "InvertedResidual-108           [-1, 96, 16, 16]               0\n",
            "          Conv2d-109          [-1, 576, 16, 16]          55,296\n",
            "     BatchNorm2d-110          [-1, 576, 16, 16]           1,152\n",
            "           ReLU6-111          [-1, 576, 16, 16]               0\n",
            "          Conv2d-112          [-1, 576, 16, 16]           5,184\n",
            "     BatchNorm2d-113          [-1, 576, 16, 16]           1,152\n",
            "           ReLU6-114          [-1, 576, 16, 16]               0\n",
            "          Conv2d-115           [-1, 96, 16, 16]          55,296\n",
            "     BatchNorm2d-116           [-1, 96, 16, 16]             192\n",
            "InvertedResidual-117           [-1, 96, 16, 16]               0\n",
            "          Conv2d-118          [-1, 576, 16, 16]          55,296\n",
            "     BatchNorm2d-119          [-1, 576, 16, 16]           1,152\n",
            "           ReLU6-120          [-1, 576, 16, 16]               0\n",
            "          Conv2d-121            [-1, 576, 8, 8]           5,184\n",
            "     BatchNorm2d-122            [-1, 576, 8, 8]           1,152\n",
            "           ReLU6-123            [-1, 576, 8, 8]               0\n",
            "          Conv2d-124            [-1, 160, 8, 8]          92,160\n",
            "     BatchNorm2d-125            [-1, 160, 8, 8]             320\n",
            "InvertedResidual-126            [-1, 160, 8, 8]               0\n",
            "          Conv2d-127            [-1, 960, 8, 8]         153,600\n",
            "     BatchNorm2d-128            [-1, 960, 8, 8]           1,920\n",
            "           ReLU6-129            [-1, 960, 8, 8]               0\n",
            "          Conv2d-130            [-1, 960, 8, 8]           8,640\n",
            "     BatchNorm2d-131            [-1, 960, 8, 8]           1,920\n",
            "           ReLU6-132            [-1, 960, 8, 8]               0\n",
            "          Conv2d-133            [-1, 160, 8, 8]         153,600\n",
            "     BatchNorm2d-134            [-1, 160, 8, 8]             320\n",
            "InvertedResidual-135            [-1, 160, 8, 8]               0\n",
            "          Conv2d-136            [-1, 960, 8, 8]         153,600\n",
            "     BatchNorm2d-137            [-1, 960, 8, 8]           1,920\n",
            "           ReLU6-138            [-1, 960, 8, 8]               0\n",
            "          Conv2d-139            [-1, 960, 8, 8]           8,640\n",
            "     BatchNorm2d-140            [-1, 960, 8, 8]           1,920\n",
            "           ReLU6-141            [-1, 960, 8, 8]               0\n",
            "          Conv2d-142            [-1, 160, 8, 8]         153,600\n",
            "     BatchNorm2d-143            [-1, 160, 8, 8]             320\n",
            "InvertedResidual-144            [-1, 160, 8, 8]               0\n",
            "          Conv2d-145            [-1, 960, 8, 8]         153,600\n",
            "     BatchNorm2d-146            [-1, 960, 8, 8]           1,920\n",
            "           ReLU6-147            [-1, 960, 8, 8]               0\n",
            "          Conv2d-148            [-1, 960, 8, 8]           8,640\n",
            "     BatchNorm2d-149            [-1, 960, 8, 8]           1,920\n",
            "           ReLU6-150            [-1, 960, 8, 8]               0\n",
            "          Conv2d-151            [-1, 320, 8, 8]         307,200\n",
            "     BatchNorm2d-152            [-1, 320, 8, 8]             640\n",
            "InvertedResidual-153            [-1, 320, 8, 8]               0\n",
            "          Conv2d-154           [-1, 1280, 8, 8]         409,600\n",
            "     BatchNorm2d-155           [-1, 1280, 8, 8]           2,560\n",
            "           ReLU6-156           [-1, 1280, 8, 8]               0\n",
            "         Dropout-157                 [-1, 1280]               0\n",
            "          Linear-158                 [-1, 1000]       1,281,000\n",
            "================================================================\n",
            "Total params: 3,504,872\n",
            "Trainable params: 3,504,872\n",
            "Non-trainable params: 0\n",
            "----------------------------------------------------------------\n",
            "Input size (MB): 0.75\n",
            "Forward/backward pass size (MB): 199.66\n",
            "Params size (MB): 13.37\n",
            "Estimated Total Size (MB): 213.78\n",
            "----------------------------------------------------------------\n"
          ],
          "name": "stdout"
        }
      ]
    },
    {
      "cell_type": "markdown",
      "metadata": {
        "id": "jkSjjsRXWsaS"
      },
      "source": [
        "**Modified MobileNetV2**"
      ]
    },
    {
      "cell_type": "code",
      "metadata": {
        "colab": {
          "base_uri": "https://localhost:8080/"
        },
        "id": "ZvsNDqqfWxWR",
        "outputId": "8c7786a7-94c7-49ec-c065-63a6efd2dea1"
      },
      "source": [
        "summary(mobile_net_modified, (3, 256, 256), device=\"cpu\")"
      ],
      "execution_count": null,
      "outputs": [
        {
          "output_type": "stream",
          "text": [
            "----------------------------------------------------------------\n",
            "        Layer (type)               Output Shape         Param #\n",
            "================================================================\n",
            "            Conv2d-1         [-1, 32, 128, 128]             864\n",
            "       BatchNorm2d-2         [-1, 32, 128, 128]              64\n",
            "             ReLU6-3         [-1, 32, 128, 128]               0\n",
            "            Conv2d-4         [-1, 32, 128, 128]             288\n",
            "       BatchNorm2d-5         [-1, 32, 128, 128]              64\n",
            "             ReLU6-6         [-1, 32, 128, 128]               0\n",
            "            Conv2d-7         [-1, 16, 128, 128]             512\n",
            "       BatchNorm2d-8         [-1, 16, 128, 128]              32\n",
            "  InvertedResidual-9         [-1, 16, 128, 128]               0\n",
            "           Conv2d-10         [-1, 96, 128, 128]           1,536\n",
            "      BatchNorm2d-11         [-1, 96, 128, 128]             192\n",
            "            ReLU6-12         [-1, 96, 128, 128]               0\n",
            "           Conv2d-13           [-1, 96, 64, 64]             864\n",
            "      BatchNorm2d-14           [-1, 96, 64, 64]             192\n",
            "            ReLU6-15           [-1, 96, 64, 64]               0\n",
            "           Conv2d-16           [-1, 24, 64, 64]           2,304\n",
            "      BatchNorm2d-17           [-1, 24, 64, 64]              48\n",
            " InvertedResidual-18           [-1, 24, 64, 64]               0\n",
            "           Conv2d-19          [-1, 144, 64, 64]           3,456\n",
            "      BatchNorm2d-20          [-1, 144, 64, 64]             288\n",
            "            ReLU6-21          [-1, 144, 64, 64]               0\n",
            "           Conv2d-22          [-1, 144, 64, 64]           1,296\n",
            "      BatchNorm2d-23          [-1, 144, 64, 64]             288\n",
            "            ReLU6-24          [-1, 144, 64, 64]               0\n",
            "           Conv2d-25           [-1, 24, 64, 64]           3,456\n",
            "      BatchNorm2d-26           [-1, 24, 64, 64]              48\n",
            " InvertedResidual-27           [-1, 24, 64, 64]               0\n",
            "           Conv2d-28          [-1, 144, 64, 64]           3,456\n",
            "      BatchNorm2d-29          [-1, 144, 64, 64]             288\n",
            "            ReLU6-30          [-1, 144, 64, 64]               0\n",
            "           Conv2d-31          [-1, 144, 32, 32]           1,296\n",
            "      BatchNorm2d-32          [-1, 144, 32, 32]             288\n",
            "            ReLU6-33          [-1, 144, 32, 32]               0\n",
            "           Conv2d-34           [-1, 32, 32, 32]           4,608\n",
            "      BatchNorm2d-35           [-1, 32, 32, 32]              64\n",
            " InvertedResidual-36           [-1, 32, 32, 32]               0\n",
            "           Conv2d-37          [-1, 192, 32, 32]           6,144\n",
            "      BatchNorm2d-38          [-1, 192, 32, 32]             384\n",
            "            ReLU6-39          [-1, 192, 32, 32]               0\n",
            "           Conv2d-40          [-1, 192, 32, 32]           1,728\n",
            "      BatchNorm2d-41          [-1, 192, 32, 32]             384\n",
            "            ReLU6-42          [-1, 192, 32, 32]               0\n",
            "           Conv2d-43           [-1, 32, 32, 32]           6,144\n",
            "      BatchNorm2d-44           [-1, 32, 32, 32]              64\n",
            " InvertedResidual-45           [-1, 32, 32, 32]               0\n",
            "           Conv2d-46          [-1, 192, 32, 32]           6,144\n",
            "      BatchNorm2d-47          [-1, 192, 32, 32]             384\n",
            "            ReLU6-48          [-1, 192, 32, 32]               0\n",
            "           Conv2d-49          [-1, 192, 32, 32]           1,728\n",
            "      BatchNorm2d-50          [-1, 192, 32, 32]             384\n",
            "            ReLU6-51          [-1, 192, 32, 32]               0\n",
            "           Conv2d-52           [-1, 32, 32, 32]           6,144\n",
            "      BatchNorm2d-53           [-1, 32, 32, 32]              64\n",
            " InvertedResidual-54           [-1, 32, 32, 32]               0\n",
            "           Conv2d-55          [-1, 192, 32, 32]           6,144\n",
            "      BatchNorm2d-56          [-1, 192, 32, 32]             384\n",
            "            ReLU6-57          [-1, 192, 32, 32]               0\n",
            "           Conv2d-58          [-1, 192, 16, 16]           1,728\n",
            "      BatchNorm2d-59          [-1, 192, 16, 16]             384\n",
            "            ReLU6-60          [-1, 192, 16, 16]               0\n",
            "           Conv2d-61           [-1, 64, 16, 16]          12,288\n",
            "      BatchNorm2d-62           [-1, 64, 16, 16]             128\n",
            " InvertedResidual-63           [-1, 64, 16, 16]               0\n",
            "           Conv2d-64          [-1, 384, 16, 16]          24,576\n",
            "      BatchNorm2d-65          [-1, 384, 16, 16]             768\n",
            "            ReLU6-66          [-1, 384, 16, 16]               0\n",
            "           Conv2d-67          [-1, 384, 16, 16]           3,456\n",
            "      BatchNorm2d-68          [-1, 384, 16, 16]             768\n",
            "            ReLU6-69          [-1, 384, 16, 16]               0\n",
            "           Conv2d-70           [-1, 64, 16, 16]          24,576\n",
            "      BatchNorm2d-71           [-1, 64, 16, 16]             128\n",
            " InvertedResidual-72           [-1, 64, 16, 16]               0\n",
            "           Conv2d-73          [-1, 384, 16, 16]          24,576\n",
            "      BatchNorm2d-74          [-1, 384, 16, 16]             768\n",
            "            ReLU6-75          [-1, 384, 16, 16]               0\n",
            "           Conv2d-76          [-1, 384, 16, 16]           3,456\n",
            "      BatchNorm2d-77          [-1, 384, 16, 16]             768\n",
            "            ReLU6-78          [-1, 384, 16, 16]               0\n",
            "           Conv2d-79           [-1, 64, 16, 16]          24,576\n",
            "      BatchNorm2d-80           [-1, 64, 16, 16]             128\n",
            " InvertedResidual-81           [-1, 64, 16, 16]               0\n",
            "           Conv2d-82          [-1, 384, 16, 16]          24,576\n",
            "      BatchNorm2d-83          [-1, 384, 16, 16]             768\n",
            "            ReLU6-84          [-1, 384, 16, 16]               0\n",
            "           Conv2d-85          [-1, 384, 16, 16]           3,456\n",
            "      BatchNorm2d-86          [-1, 384, 16, 16]             768\n",
            "            ReLU6-87          [-1, 384, 16, 16]               0\n",
            "           Conv2d-88           [-1, 64, 16, 16]          24,576\n",
            "      BatchNorm2d-89           [-1, 64, 16, 16]             128\n",
            " InvertedResidual-90           [-1, 64, 16, 16]               0\n",
            "           Conv2d-91          [-1, 384, 16, 16]          24,576\n",
            "      BatchNorm2d-92          [-1, 384, 16, 16]             768\n",
            "            ReLU6-93          [-1, 384, 16, 16]               0\n",
            "           Conv2d-94          [-1, 384, 16, 16]           3,456\n",
            "      BatchNorm2d-95          [-1, 384, 16, 16]             768\n",
            "            ReLU6-96          [-1, 384, 16, 16]               0\n",
            "           Conv2d-97           [-1, 96, 16, 16]          36,864\n",
            "      BatchNorm2d-98           [-1, 96, 16, 16]             192\n",
            " InvertedResidual-99           [-1, 96, 16, 16]               0\n",
            "          Conv2d-100          [-1, 576, 16, 16]          55,296\n",
            "     BatchNorm2d-101          [-1, 576, 16, 16]           1,152\n",
            "           ReLU6-102          [-1, 576, 16, 16]               0\n",
            "          Conv2d-103          [-1, 576, 16, 16]           5,184\n",
            "     BatchNorm2d-104          [-1, 576, 16, 16]           1,152\n",
            "           ReLU6-105          [-1, 576, 16, 16]               0\n",
            "          Conv2d-106           [-1, 96, 16, 16]          55,296\n",
            "     BatchNorm2d-107           [-1, 96, 16, 16]             192\n",
            "InvertedResidual-108           [-1, 96, 16, 16]               0\n",
            "          Conv2d-109          [-1, 576, 16, 16]          55,296\n",
            "     BatchNorm2d-110          [-1, 576, 16, 16]           1,152\n",
            "           ReLU6-111          [-1, 576, 16, 16]               0\n",
            "          Conv2d-112          [-1, 576, 16, 16]           5,184\n",
            "     BatchNorm2d-113          [-1, 576, 16, 16]           1,152\n",
            "           ReLU6-114          [-1, 576, 16, 16]               0\n",
            "          Conv2d-115           [-1, 96, 16, 16]          55,296\n",
            "     BatchNorm2d-116           [-1, 96, 16, 16]             192\n",
            "InvertedResidual-117           [-1, 96, 16, 16]               0\n",
            "          Conv2d-118          [-1, 576, 16, 16]          55,296\n",
            "     BatchNorm2d-119          [-1, 576, 16, 16]           1,152\n",
            "           ReLU6-120          [-1, 576, 16, 16]               0\n",
            "          Conv2d-121            [-1, 576, 8, 8]           5,184\n",
            "     BatchNorm2d-122            [-1, 576, 8, 8]           1,152\n",
            "           ReLU6-123            [-1, 576, 8, 8]               0\n",
            "          Conv2d-124            [-1, 160, 8, 8]          92,160\n",
            "     BatchNorm2d-125            [-1, 160, 8, 8]             320\n",
            "InvertedResidual-126            [-1, 160, 8, 8]               0\n",
            "          Conv2d-127            [-1, 960, 8, 8]         153,600\n",
            "     BatchNorm2d-128            [-1, 960, 8, 8]           1,920\n",
            "           ReLU6-129            [-1, 960, 8, 8]               0\n",
            "          Conv2d-130            [-1, 960, 8, 8]           8,640\n",
            "     BatchNorm2d-131            [-1, 960, 8, 8]           1,920\n",
            "           ReLU6-132            [-1, 960, 8, 8]               0\n",
            "          Conv2d-133            [-1, 160, 8, 8]         153,600\n",
            "     BatchNorm2d-134            [-1, 160, 8, 8]             320\n",
            "InvertedResidual-135            [-1, 160, 8, 8]               0\n",
            "          Conv2d-136            [-1, 960, 8, 8]         153,600\n",
            "     BatchNorm2d-137            [-1, 960, 8, 8]           1,920\n",
            "           ReLU6-138            [-1, 960, 8, 8]               0\n",
            "          Conv2d-139            [-1, 960, 8, 8]           8,640\n",
            "     BatchNorm2d-140            [-1, 960, 8, 8]           1,920\n",
            "           ReLU6-141            [-1, 960, 8, 8]               0\n",
            "          Conv2d-142            [-1, 160, 8, 8]         153,600\n",
            "     BatchNorm2d-143            [-1, 160, 8, 8]             320\n",
            "InvertedResidual-144            [-1, 160, 8, 8]               0\n",
            "          Conv2d-145            [-1, 960, 8, 8]         153,600\n",
            "     BatchNorm2d-146            [-1, 960, 8, 8]           1,920\n",
            "           ReLU6-147            [-1, 960, 8, 8]               0\n",
            "          Conv2d-148            [-1, 960, 8, 8]           8,640\n",
            "     BatchNorm2d-149            [-1, 960, 8, 8]           1,920\n",
            "           ReLU6-150            [-1, 960, 8, 8]               0\n",
            "          Conv2d-151            [-1, 320, 8, 8]         307,200\n",
            "     BatchNorm2d-152            [-1, 320, 8, 8]             640\n",
            "InvertedResidual-153            [-1, 320, 8, 8]               0\n",
            "          Conv2d-154           [-1, 1280, 8, 8]         409,600\n",
            "     BatchNorm2d-155           [-1, 1280, 8, 8]           2,560\n",
            "           ReLU6-156           [-1, 1280, 8, 8]               0\n",
            "AdaptiveAvgPool2d-157           [-1, 1280, 1, 1]               0\n",
            "         Dropout-158                 [-1, 1280]               0\n",
            "          Linear-159                  [-1, 800]       1,024,800\n",
            "================================================================\n",
            "Total params: 3,248,672\n",
            "Trainable params: 3,248,672\n",
            "Non-trainable params: 0\n",
            "----------------------------------------------------------------\n",
            "Input size (MB): 0.75\n",
            "Forward/backward pass size (MB): 199.67\n",
            "Params size (MB): 12.39\n",
            "Estimated Total Size (MB): 212.81\n",
            "----------------------------------------------------------------\n"
          ],
          "name": "stdout"
        }
      ]
    },
    {
      "cell_type": "markdown",
      "metadata": {
        "id": "Lb0mzW_bu9RU"
      },
      "source": [
        "# **Section 6: Deep Train Orignial Mobile NetV2**"
      ]
    },
    {
      "cell_type": "code",
      "metadata": {
        "colab": {
          "base_uri": "https://localhost:8080/"
        },
        "id": "Jp2rbYZ0vKff",
        "outputId": "ce84cb26-bda2-4c61-fece-a03702461abe"
      },
      "source": [
        "model_deep_train_ori=train(mobile_net_ori, num_epochs=300, lr=0.055, momentum=0.9)"
      ],
      "execution_count": null,
      "outputs": [
        {
          "output_type": "stream",
          "text": [
            "[Epoch  1/300 Iter    18/18]: train_loss = 4.6635\n",
            "[Epoch  2/300 Iter    18/18]: train_loss = 3.5785\n",
            "[Epoch  3/300 Iter    18/18]: train_loss = 3.0400\n",
            "[Epoch  4/300 Iter    18/18]: train_loss = 2.9653\n",
            "[Epoch  5/300 Iter    18/18]: train_loss = 2.7886\n",
            "[Epoch  6/300 Iter    18/18]: train_loss = 2.5106\n",
            "[Epoch  7/300 Iter    18/18]: train_loss = 2.3321\n",
            "[Epoch  8/300 Iter    18/18]: train_loss = 2.2688\n",
            "[Epoch  9/300 Iter    18/18]: train_loss = 2.0973\n",
            "[Epoch 10/300 Iter    18/18]: train_loss = 2.0664\n",
            "[Epoch 11/300 Iter    18/18]: train_loss = 2.0769\n",
            "[Epoch 12/300 Iter    18/18]: train_loss = 1.8545\n",
            "[Epoch 13/300 Iter    18/18]: train_loss = 1.8852\n",
            "[Epoch 14/300 Iter    18/18]: train_loss = 1.7102\n",
            "[Epoch 15/300 Iter    18/18]: train_loss = 1.6316\n",
            "[Epoch 16/300 Iter    18/18]: train_loss = 1.5797\n",
            "[Epoch 17/300 Iter    18/18]: train_loss = 1.5681\n",
            "[Epoch 18/300 Iter    18/18]: train_loss = 1.3783\n",
            "[Epoch 19/300 Iter    18/18]: train_loss = 1.2618\n",
            "[Epoch 20/300 Iter    18/18]: train_loss = 1.3564\n",
            "[Epoch 21/300 Iter    18/18]: train_loss = 1.1765\n",
            "[Epoch 22/300 Iter    18/18]: train_loss = 1.3714\n",
            "[Epoch 23/300 Iter    18/18]: train_loss = 1.2505\n",
            "[Epoch 24/300 Iter    18/18]: train_loss = 1.1737\n",
            "[Epoch 25/300 Iter    18/18]: train_loss = 0.9876\n",
            "[Epoch 26/300 Iter    18/18]: train_loss = 0.8633\n",
            "[Epoch 27/300 Iter    18/18]: train_loss = 0.8631\n",
            "[Epoch 28/300 Iter    18/18]: train_loss = 0.8844\n",
            "[Epoch 29/300 Iter    18/18]: train_loss = 0.7665\n",
            "[Epoch 30/300 Iter    18/18]: train_loss = 0.8465\n",
            "[Epoch 31/300 Iter    18/18]: train_loss = 0.8521\n",
            "[Epoch 32/300 Iter    18/18]: train_loss = 0.7566\n",
            "[Epoch 33/300 Iter    18/18]: train_loss = 0.8474\n",
            "[Epoch 34/300 Iter    18/18]: train_loss = 0.6959\n",
            "[Epoch 35/300 Iter    18/18]: train_loss = 0.7382\n",
            "[Epoch 36/300 Iter    18/18]: train_loss = 0.7154\n",
            "[Epoch 37/300 Iter    18/18]: train_loss = 0.6352\n",
            "[Epoch 38/300 Iter    18/18]: train_loss = 0.6568\n",
            "[Epoch 39/300 Iter    18/18]: train_loss = 0.4955\n",
            "[Epoch 40/300 Iter    18/18]: train_loss = 0.4890\n",
            "[Epoch 41/300 Iter    18/18]: train_loss = 0.4721\n",
            "[Epoch 42/300 Iter    18/18]: train_loss = 0.4055\n",
            "[Epoch 43/300 Iter    18/18]: train_loss = 0.4241\n",
            "[Epoch 44/300 Iter    18/18]: train_loss = 0.5012\n",
            "[Epoch 45/300 Iter    18/18]: train_loss = 0.5016\n",
            "[Epoch 46/300 Iter    18/18]: train_loss = 0.4173\n",
            "[Epoch 47/300 Iter    18/18]: train_loss = 0.3299\n",
            "[Epoch 48/300 Iter    18/18]: train_loss = 0.3441\n",
            "[Epoch 49/300 Iter    18/18]: train_loss = 0.3284\n",
            "[Epoch 50/300 Iter    18/18]: train_loss = 0.3835\n",
            "[Epoch 51/300 Iter    18/18]: train_loss = 0.2874\n",
            "[Epoch 52/300 Iter    18/18]: train_loss = 0.2787\n",
            "[Epoch 53/300 Iter    18/18]: train_loss = 0.2084\n",
            "[Epoch 54/300 Iter    18/18]: train_loss = 0.1978\n",
            "[Epoch 55/300 Iter    18/18]: train_loss = 0.3089\n",
            "[Epoch 56/300 Iter    18/18]: train_loss = 0.2393\n",
            "[Epoch 57/300 Iter    18/18]: train_loss = 0.3627\n",
            "[Epoch 58/300 Iter    18/18]: train_loss = 0.3306\n",
            "[Epoch 59/300 Iter    18/18]: train_loss = 0.3516\n",
            "[Epoch 60/300 Iter    18/18]: train_loss = 0.2023\n",
            "[Epoch 61/300 Iter    18/18]: train_loss = 0.1323\n",
            "[Epoch 62/300 Iter    18/18]: train_loss = 0.1582\n",
            "[Epoch 63/300 Iter    18/18]: train_loss = 0.0945\n",
            "[Epoch 64/300 Iter    18/18]: train_loss = 0.1149\n",
            "[Epoch 65/300 Iter    18/18]: train_loss = 0.1527\n",
            "[Epoch 66/300 Iter    18/18]: train_loss = 0.1273\n",
            "[Epoch 67/300 Iter    18/18]: train_loss = 0.2131\n",
            "[Epoch 68/300 Iter    18/18]: train_loss = 0.1665\n",
            "[Epoch 69/300 Iter    18/18]: train_loss = 0.1446\n",
            "[Epoch 70/300 Iter    18/18]: train_loss = 0.1872\n",
            "[Epoch 71/300 Iter    18/18]: train_loss = 0.2092\n",
            "[Epoch 72/300 Iter    18/18]: train_loss = 0.1617\n",
            "[Epoch 73/300 Iter    18/18]: train_loss = 0.2630\n",
            "[Epoch 74/300 Iter    18/18]: train_loss = 0.2364\n",
            "[Epoch 75/300 Iter    18/18]: train_loss = 0.1438\n",
            "[Epoch 76/300 Iter    18/18]: train_loss = 0.1726\n",
            "[Epoch 77/300 Iter    18/18]: train_loss = 0.1265\n",
            "[Epoch 78/300 Iter    18/18]: train_loss = 0.1950\n",
            "[Epoch 79/300 Iter    18/18]: train_loss = 0.1473\n",
            "[Epoch 80/300 Iter    18/18]: train_loss = 0.1420\n",
            "[Epoch 81/300 Iter    18/18]: train_loss = 0.0841\n",
            "[Epoch 82/300 Iter    18/18]: train_loss = 0.0847\n",
            "[Epoch 83/300 Iter    18/18]: train_loss = 0.0806\n",
            "[Epoch 84/300 Iter    18/18]: train_loss = 0.0609\n",
            "[Epoch 85/300 Iter    18/18]: train_loss = 0.0645\n",
            "[Epoch 86/300 Iter    18/18]: train_loss = 0.0608\n",
            "[Epoch 87/300 Iter    18/18]: train_loss = 0.0436\n",
            "[Epoch 88/300 Iter    18/18]: train_loss = 0.0870\n",
            "[Epoch 89/300 Iter    18/18]: train_loss = 0.0892\n",
            "[Epoch 90/300 Iter    18/18]: train_loss = 0.1076\n",
            "[Epoch 91/300 Iter    18/18]: train_loss = 0.0829\n",
            "[Epoch 92/300 Iter    18/18]: train_loss = 0.0526\n",
            "[Epoch 93/300 Iter    18/18]: train_loss = 0.0803\n",
            "[Epoch 94/300 Iter    18/18]: train_loss = 0.0851\n",
            "[Epoch 95/300 Iter    18/18]: train_loss = 0.0578\n",
            "[Epoch 96/300 Iter    18/18]: train_loss = 0.0930\n",
            "[Epoch 97/300 Iter    18/18]: train_loss = 0.0825\n",
            "[Epoch 98/300 Iter    18/18]: train_loss = 0.1012\n",
            "[Epoch 99/300 Iter    18/18]: train_loss = 0.0730\n",
            "[Epoch 100/300 Iter    18/18]: train_loss = 0.1147\n",
            "[Epoch 101/300 Iter    18/18]: train_loss = 0.1638\n",
            "[Epoch 102/300 Iter    18/18]: train_loss = 0.1341\n",
            "[Epoch 103/300 Iter    18/18]: train_loss = 0.0858\n",
            "[Epoch 104/300 Iter    18/18]: train_loss = 0.0807\n",
            "[Epoch 105/300 Iter    18/18]: train_loss = 0.0732\n",
            "[Epoch 106/300 Iter    18/18]: train_loss = 0.0689\n",
            "[Epoch 107/300 Iter    18/18]: train_loss = 0.0629\n",
            "[Epoch 108/300 Iter    18/18]: train_loss = 0.0651\n",
            "[Epoch 109/300 Iter    18/18]: train_loss = 0.0730\n",
            "[Epoch 110/300 Iter    18/18]: train_loss = 0.0848\n",
            "[Epoch 111/300 Iter    18/18]: train_loss = 0.1015\n",
            "[Epoch 112/300 Iter    18/18]: train_loss = 0.1084\n",
            "[Epoch 113/300 Iter    18/18]: train_loss = 0.0984\n",
            "[Epoch 114/300 Iter    18/18]: train_loss = 0.1087\n",
            "[Epoch 115/300 Iter    18/18]: train_loss = 0.0743\n",
            "[Epoch 116/300 Iter    18/18]: train_loss = 0.0504\n",
            "[Epoch 117/300 Iter    18/18]: train_loss = 0.0263\n",
            "[Epoch 118/300 Iter    18/18]: train_loss = 0.0377\n",
            "[Epoch 119/300 Iter    18/18]: train_loss = 0.0530\n",
            "[Epoch 120/300 Iter    18/18]: train_loss = 0.1083\n",
            "[Epoch 121/300 Iter    18/18]: train_loss = 0.0670\n",
            "[Epoch 122/300 Iter    18/18]: train_loss = 0.0683\n",
            "[Epoch 123/300 Iter    18/18]: train_loss = 0.0470\n",
            "[Epoch 124/300 Iter    18/18]: train_loss = 0.1197\n",
            "[Epoch 125/300 Iter    18/18]: train_loss = 0.1080\n",
            "[Epoch 126/300 Iter    18/18]: train_loss = 0.1591\n",
            "[Epoch 127/300 Iter    18/18]: train_loss = 0.1368\n",
            "[Epoch 128/300 Iter    18/18]: train_loss = 0.1086\n",
            "[Epoch 129/300 Iter    18/18]: train_loss = 0.0525\n",
            "[Epoch 130/300 Iter    18/18]: train_loss = 0.0400\n",
            "[Epoch 131/300 Iter    18/18]: train_loss = 0.0465\n",
            "[Epoch 132/300 Iter    18/18]: train_loss = 0.0193\n",
            "[Epoch 133/300 Iter    18/18]: train_loss = 0.0368\n",
            "[Epoch 134/300 Iter    18/18]: train_loss = 0.0303\n",
            "[Epoch 135/300 Iter    18/18]: train_loss = 0.0279\n",
            "[Epoch 136/300 Iter    18/18]: train_loss = 0.0268\n",
            "[Epoch 137/300 Iter    18/18]: train_loss = 0.0608\n",
            "[Epoch 138/300 Iter    18/18]: train_loss = 0.0684\n",
            "[Epoch 139/300 Iter    18/18]: train_loss = 0.0498\n",
            "[Epoch 140/300 Iter    18/18]: train_loss = 0.0693\n",
            "[Epoch 141/300 Iter    18/18]: train_loss = 0.0327\n",
            "[Epoch 142/300 Iter    18/18]: train_loss = 0.0220\n",
            "[Epoch 143/300 Iter    18/18]: train_loss = 0.0156\n",
            "[Epoch 144/300 Iter    18/18]: train_loss = 0.0088\n",
            "[Epoch 145/300 Iter    18/18]: train_loss = 0.0267\n",
            "[Epoch 146/300 Iter    18/18]: train_loss = 0.0085\n",
            "[Epoch 147/300 Iter    18/18]: train_loss = 0.0082\n",
            "[Epoch 148/300 Iter    18/18]: train_loss = 0.0109\n",
            "[Epoch 149/300 Iter    18/18]: train_loss = 0.0130\n",
            "[Epoch 150/300 Iter    18/18]: train_loss = 0.0210\n",
            "[Epoch 151/300 Iter    18/18]: train_loss = 0.0218\n",
            "[Epoch 152/300 Iter    18/18]: train_loss = 0.0206\n",
            "[Epoch 153/300 Iter    18/18]: train_loss = 0.0126\n",
            "[Epoch 154/300 Iter    18/18]: train_loss = 0.0209\n",
            "[Epoch 155/300 Iter    18/18]: train_loss = 0.0151\n",
            "[Epoch 156/300 Iter    18/18]: train_loss = 0.0133\n",
            "[Epoch 157/300 Iter    18/18]: train_loss = 0.0427\n",
            "[Epoch 158/300 Iter    18/18]: train_loss = 0.0310\n",
            "[Epoch 159/300 Iter    18/18]: train_loss = 0.0202\n",
            "[Epoch 160/300 Iter    18/18]: train_loss = 0.0346\n",
            "[Epoch 161/300 Iter    18/18]: train_loss = 0.0222\n",
            "[Epoch 162/300 Iter    18/18]: train_loss = 0.0241\n",
            "[Epoch 163/300 Iter    18/18]: train_loss = 0.0202\n",
            "[Epoch 164/300 Iter    18/18]: train_loss = 0.0210\n",
            "[Epoch 165/300 Iter    18/18]: train_loss = 0.0513\n",
            "[Epoch 166/300 Iter    18/18]: train_loss = 0.0496\n",
            "[Epoch 167/300 Iter    18/18]: train_loss = 0.0802\n",
            "[Epoch 168/300 Iter    18/18]: train_loss = 0.0383\n",
            "[Epoch 169/300 Iter    18/18]: train_loss = 0.0274\n",
            "[Epoch 170/300 Iter    18/18]: train_loss = 0.0193\n",
            "[Epoch 171/300 Iter    18/18]: train_loss = 0.0252\n",
            "[Epoch 172/300 Iter    18/18]: train_loss = 0.0461\n",
            "[Epoch 173/300 Iter    18/18]: train_loss = 0.0422\n",
            "[Epoch 174/300 Iter    18/18]: train_loss = 0.0274\n",
            "[Epoch 175/300 Iter    18/18]: train_loss = 0.0355\n",
            "[Epoch 176/300 Iter    18/18]: train_loss = 0.0315\n",
            "[Epoch 177/300 Iter    18/18]: train_loss = 0.0167\n",
            "[Epoch 178/300 Iter    18/18]: train_loss = 0.0219\n",
            "[Epoch 179/300 Iter    18/18]: train_loss = 0.0094\n",
            "[Epoch 180/300 Iter    18/18]: train_loss = 0.0170\n",
            "[Epoch 181/300 Iter    18/18]: train_loss = 0.0063\n",
            "[Epoch 182/300 Iter    18/18]: train_loss = 0.0067\n",
            "[Epoch 183/300 Iter    18/18]: train_loss = 0.0073\n",
            "[Epoch 184/300 Iter    18/18]: train_loss = 0.0239\n",
            "[Epoch 185/300 Iter    18/18]: train_loss = 0.0252\n",
            "[Epoch 186/300 Iter    18/18]: train_loss = 0.0202\n",
            "[Epoch 187/300 Iter    18/18]: train_loss = 0.0103\n",
            "[Epoch 188/300 Iter    18/18]: train_loss = 0.0145\n",
            "[Epoch 189/300 Iter    18/18]: train_loss = 0.0112\n",
            "[Epoch 190/300 Iter    18/18]: train_loss = 0.0076\n",
            "[Epoch 191/300 Iter    18/18]: train_loss = 0.0134\n",
            "[Epoch 192/300 Iter    18/18]: train_loss = 0.0103\n",
            "[Epoch 193/300 Iter    18/18]: train_loss = 0.0168\n",
            "[Epoch 194/300 Iter    18/18]: train_loss = 0.0156\n",
            "[Epoch 195/300 Iter    18/18]: train_loss = 0.0076\n",
            "[Epoch 196/300 Iter    18/18]: train_loss = 0.0092\n",
            "[Epoch 197/300 Iter    18/18]: train_loss = 0.0059\n",
            "[Epoch 198/300 Iter    18/18]: train_loss = 0.0107\n",
            "[Epoch 199/300 Iter    18/18]: train_loss = 0.0310\n",
            "[Epoch 200/300 Iter    18/18]: train_loss = 0.0093\n",
            "[Epoch 201/300 Iter    18/18]: train_loss = 0.0320\n",
            "[Epoch 202/300 Iter    18/18]: train_loss = 0.0206\n",
            "[Epoch 203/300 Iter    18/18]: train_loss = 0.0194\n",
            "[Epoch 204/300 Iter    18/18]: train_loss = 0.0110\n",
            "[Epoch 205/300 Iter    18/18]: train_loss = 0.0302\n",
            "[Epoch 206/300 Iter    18/18]: train_loss = 0.0037\n",
            "[Epoch 207/300 Iter    18/18]: train_loss = 0.0165\n",
            "[Epoch 208/300 Iter    18/18]: train_loss = 0.0051\n",
            "[Epoch 209/300 Iter    18/18]: train_loss = 0.0379\n",
            "[Epoch 210/300 Iter    18/18]: train_loss = 0.0046\n",
            "[Epoch 211/300 Iter    18/18]: train_loss = 0.0049\n",
            "[Epoch 212/300 Iter    18/18]: train_loss = 0.0050\n",
            "[Epoch 213/300 Iter    18/18]: train_loss = 0.0085\n",
            "[Epoch 214/300 Iter    18/18]: train_loss = 0.0038\n",
            "[Epoch 215/300 Iter    18/18]: train_loss = 0.0281\n",
            "[Epoch 216/300 Iter    18/18]: train_loss = 0.0410\n",
            "[Epoch 217/300 Iter    18/18]: train_loss = 0.0377\n",
            "[Epoch 218/300 Iter    18/18]: train_loss = 0.0394\n",
            "[Epoch 219/300 Iter    18/18]: train_loss = 0.0116\n",
            "[Epoch 220/300 Iter    18/18]: train_loss = 0.0259\n",
            "[Epoch 221/300 Iter    18/18]: train_loss = 0.0236\n",
            "[Epoch 222/300 Iter    18/18]: train_loss = 0.0396\n",
            "[Epoch 223/300 Iter    18/18]: train_loss = 0.0353\n",
            "[Epoch 224/300 Iter    18/18]: train_loss = 0.0196\n",
            "[Epoch 225/300 Iter    18/18]: train_loss = 0.0282\n",
            "[Epoch 226/300 Iter    18/18]: train_loss = 0.0143\n",
            "[Epoch 227/300 Iter    18/18]: train_loss = 0.0548\n",
            "[Epoch 228/300 Iter    18/18]: train_loss = 0.1125\n",
            "[Epoch 229/300 Iter    18/18]: train_loss = 0.0934\n",
            "[Epoch 230/300 Iter    18/18]: train_loss = 0.1048\n",
            "[Epoch 231/300 Iter    18/18]: train_loss = 0.0722\n",
            "[Epoch 232/300 Iter    18/18]: train_loss = 0.0606\n",
            "[Epoch 233/300 Iter    18/18]: train_loss = 0.0753\n",
            "[Epoch 234/300 Iter    18/18]: train_loss = 0.0658\n",
            "[Epoch 235/300 Iter    18/18]: train_loss = 0.0555\n",
            "[Epoch 236/300 Iter    18/18]: train_loss = 0.0509\n",
            "[Epoch 237/300 Iter    18/18]: train_loss = 0.0336\n",
            "[Epoch 238/300 Iter    18/18]: train_loss = 0.0256\n",
            "[Epoch 239/300 Iter    18/18]: train_loss = 0.0204\n",
            "[Epoch 240/300 Iter    18/18]: train_loss = 0.0158\n",
            "[Epoch 241/300 Iter    18/18]: train_loss = 0.0288\n",
            "[Epoch 242/300 Iter    18/18]: train_loss = 0.0056\n",
            "[Epoch 243/300 Iter    18/18]: train_loss = 0.0057\n",
            "[Epoch 244/300 Iter    18/18]: train_loss = 0.0040\n",
            "[Epoch 245/300 Iter    18/18]: train_loss = 0.0058\n",
            "[Epoch 246/300 Iter    18/18]: train_loss = 0.0015\n",
            "[Epoch 247/300 Iter    18/18]: train_loss = 0.0019\n",
            "[Epoch 248/300 Iter    18/18]: train_loss = 0.0010\n",
            "[Epoch 249/300 Iter    18/18]: train_loss = 0.0022\n",
            "[Epoch 250/300 Iter    18/18]: train_loss = 0.0019\n",
            "[Epoch 251/300 Iter    18/18]: train_loss = 0.0240\n",
            "[Epoch 252/300 Iter    18/18]: train_loss = 0.0055\n",
            "[Epoch 253/300 Iter    18/18]: train_loss = 0.0067\n",
            "[Epoch 254/300 Iter    18/18]: train_loss = 0.0033\n",
            "[Epoch 255/300 Iter    18/18]: train_loss = 0.0086\n",
            "[Epoch 256/300 Iter    18/18]: train_loss = 0.0070\n",
            "[Epoch 257/300 Iter    18/18]: train_loss = 0.0046\n",
            "[Epoch 258/300 Iter    18/18]: train_loss = 0.0043\n",
            "[Epoch 259/300 Iter    18/18]: train_loss = 0.0317\n",
            "[Epoch 260/300 Iter    18/18]: train_loss = 0.0217\n",
            "[Epoch 261/300 Iter    18/18]: train_loss = 0.0189\n",
            "[Epoch 262/300 Iter    18/18]: train_loss = 0.0112\n",
            "[Epoch 263/300 Iter    18/18]: train_loss = 0.0089\n",
            "[Epoch 264/300 Iter    18/18]: train_loss = 0.0026\n",
            "[Epoch 265/300 Iter    18/18]: train_loss = 0.0152\n",
            "[Epoch 266/300 Iter    18/18]: train_loss = 0.0071\n",
            "[Epoch 267/300 Iter    18/18]: train_loss = 0.0085\n",
            "[Epoch 268/300 Iter    18/18]: train_loss = 0.0053\n",
            "[Epoch 269/300 Iter    18/18]: train_loss = 0.0030\n",
            "[Epoch 270/300 Iter    18/18]: train_loss = 0.0049\n",
            "[Epoch 271/300 Iter    18/18]: train_loss = 0.0060\n",
            "[Epoch 272/300 Iter    18/18]: train_loss = 0.0026\n",
            "[Epoch 273/300 Iter    18/18]: train_loss = 0.0025\n",
            "[Epoch 274/300 Iter    18/18]: train_loss = 0.0009\n",
            "[Epoch 275/300 Iter    18/18]: train_loss = 0.0012\n",
            "[Epoch 276/300 Iter    18/18]: train_loss = 0.0025\n",
            "[Epoch 277/300 Iter    18/18]: train_loss = 0.0010\n",
            "[Epoch 278/300 Iter    18/18]: train_loss = 0.0012\n",
            "[Epoch 279/300 Iter    18/18]: train_loss = 0.0009\n",
            "[Epoch 280/300 Iter    18/18]: train_loss = 0.0006\n",
            "[Epoch 281/300 Iter    18/18]: train_loss = 0.0015\n",
            "[Epoch 282/300 Iter    18/18]: train_loss = 0.0024\n",
            "[Epoch 283/300 Iter    18/18]: train_loss = 0.0009\n",
            "[Epoch 284/300 Iter    18/18]: train_loss = 0.0079\n",
            "[Epoch 285/300 Iter    18/18]: train_loss = 0.0058\n",
            "[Epoch 286/300 Iter    18/18]: train_loss = 0.0045\n",
            "[Epoch 287/300 Iter    18/18]: train_loss = 0.0055\n",
            "[Epoch 288/300 Iter    18/18]: train_loss = 0.0028\n",
            "[Epoch 289/300 Iter    18/18]: train_loss = 0.0204\n",
            "[Epoch 290/300 Iter    18/18]: train_loss = 0.0114\n",
            "[Epoch 291/300 Iter    18/18]: train_loss = 0.0074\n",
            "[Epoch 292/300 Iter    18/18]: train_loss = 0.0115\n",
            "[Epoch 293/300 Iter    18/18]: train_loss = 0.0368\n",
            "[Epoch 294/300 Iter    18/18]: train_loss = 0.0255\n",
            "[Epoch 295/300 Iter    18/18]: train_loss = 0.0157\n",
            "[Epoch 296/300 Iter    18/18]: train_loss = 0.0062\n",
            "[Epoch 297/300 Iter    18/18]: train_loss = 0.0224\n",
            "[Epoch 298/300 Iter    18/18]: train_loss = 0.0113\n",
            "[Epoch 299/300 Iter    18/18]: train_loss = 0.0135\n",
            "[Epoch 300/300 Iter    18/18]: train_loss = 0.0187\n"
          ],
          "name": "stdout"
        }
      ]
    },
    {
      "cell_type": "code",
      "metadata": {
        "colab": {
          "base_uri": "https://localhost:8080/"
        },
        "id": "IdLQF5F6vQOK",
        "outputId": "4b2c48c3-fd16-4a89-a7b2-574b9f1b9e43"
      },
      "source": [
        "print(\"Training \")\n",
        "evaluate(mobile_net_ori,train_loader)\n",
        "clear_lists()"
      ],
      "execution_count": null,
      "outputs": [
        {
          "output_type": "stream",
          "text": [
            "Training \n",
            "Accuracy = 100.00%\n"
          ],
          "name": "stdout"
        }
      ]
    },
    {
      "cell_type": "code",
      "metadata": {
        "colab": {
          "base_uri": "https://localhost:8080/"
        },
        "id": "vm0UXlezvUBs",
        "outputId": "b31375b2-7c8f-4d58-a603-460363454ae5"
      },
      "source": [
        "print(\"Validation :\")\n",
        "evaluate(mobile_net_ori,valid_loader)\n",
        "clear_lists()"
      ],
      "execution_count": null,
      "outputs": [
        {
          "output_type": "stream",
          "text": [
            "Validation :\n",
            "Accuracy = 59.27%\n"
          ],
          "name": "stdout"
        }
      ]
    },
    {
      "cell_type": "markdown",
      "metadata": {
        "id": "JpY8P4izWH74"
      },
      "source": [
        "# **Section 7: Deep Train Modified MobileNetv2**"
      ]
    },
    {
      "cell_type": "code",
      "metadata": {
        "id": "Exrpz_bQWbbN",
        "colab": {
          "base_uri": "https://localhost:8080/"
        },
        "outputId": "1fd7dce7-d17e-477d-acb9-21e3bb520399"
      },
      "source": [
        "model_deep_train=train(mobile_net_modified, num_epochs=300, lr=0.055, momentum=0.9)"
      ],
      "execution_count": null,
      "outputs": [
        {
          "output_type": "stream",
          "text": [
            "[Epoch  1/300 Iter    18/18]: train_loss = 4.2983\n",
            "[Epoch  2/300 Iter    18/18]: train_loss = 4.3494\n",
            "[Epoch  3/300 Iter    18/18]: train_loss = 4.2889\n",
            "[Epoch  4/300 Iter    18/18]: train_loss = 3.2804\n",
            "[Epoch  5/300 Iter    18/18]: train_loss = 3.1142\n",
            "[Epoch  6/300 Iter    18/18]: train_loss = 2.7145\n",
            "[Epoch  7/300 Iter    18/18]: train_loss = 2.4383\n",
            "[Epoch  8/300 Iter    18/18]: train_loss = 2.4290\n",
            "[Epoch  9/300 Iter    18/18]: train_loss = 2.3951\n",
            "[Epoch 10/300 Iter    18/18]: train_loss = 2.1878\n",
            "[Epoch 11/300 Iter    18/18]: train_loss = 2.1586\n",
            "[Epoch 12/300 Iter    18/18]: train_loss = 2.1085\n",
            "[Epoch 13/300 Iter    18/18]: train_loss = 2.0009\n",
            "[Epoch 14/300 Iter    18/18]: train_loss = 1.9674\n",
            "[Epoch 15/300 Iter    18/18]: train_loss = 1.8529\n",
            "[Epoch 16/300 Iter    18/18]: train_loss = 1.7971\n",
            "[Epoch 17/300 Iter    18/18]: train_loss = 1.7500\n",
            "[Epoch 18/300 Iter    18/18]: train_loss = 1.6503\n",
            "[Epoch 19/300 Iter    18/18]: train_loss = 1.5184\n",
            "[Epoch 20/300 Iter    18/18]: train_loss = 1.4095\n",
            "[Epoch 21/300 Iter    18/18]: train_loss = 1.3260\n",
            "[Epoch 22/300 Iter    18/18]: train_loss = 1.4925\n",
            "[Epoch 23/300 Iter    18/18]: train_loss = 1.3797\n",
            "[Epoch 24/300 Iter    18/18]: train_loss = 1.2651\n",
            "[Epoch 25/300 Iter    18/18]: train_loss = 1.2861\n",
            "[Epoch 26/300 Iter    18/18]: train_loss = 1.1265\n",
            "[Epoch 27/300 Iter    18/18]: train_loss = 1.1387\n",
            "[Epoch 28/300 Iter    18/18]: train_loss = 1.0975\n",
            "[Epoch 29/300 Iter    18/18]: train_loss = 1.2137\n",
            "[Epoch 30/300 Iter    18/18]: train_loss = 1.1483\n",
            "[Epoch 31/300 Iter    18/18]: train_loss = 0.9629\n",
            "[Epoch 32/300 Iter    18/18]: train_loss = 0.9546\n",
            "[Epoch 33/300 Iter    18/18]: train_loss = 0.8389\n",
            "[Epoch 34/300 Iter    18/18]: train_loss = 0.7860\n",
            "[Epoch 35/300 Iter    18/18]: train_loss = 0.7373\n",
            "[Epoch 36/300 Iter    18/18]: train_loss = 0.7530\n",
            "[Epoch 37/300 Iter    18/18]: train_loss = 0.8322\n",
            "[Epoch 38/300 Iter    18/18]: train_loss = 0.7096\n",
            "[Epoch 39/300 Iter    18/18]: train_loss = 0.5958\n",
            "[Epoch 40/300 Iter    18/18]: train_loss = 0.5924\n",
            "[Epoch 41/300 Iter    18/18]: train_loss = 0.6424\n",
            "[Epoch 42/300 Iter    18/18]: train_loss = 0.6139\n",
            "[Epoch 43/300 Iter    18/18]: train_loss = 0.6385\n",
            "[Epoch 44/300 Iter    18/18]: train_loss = 0.7160\n",
            "[Epoch 45/300 Iter    18/18]: train_loss = 0.6268\n",
            "[Epoch 46/300 Iter    18/18]: train_loss = 0.4691\n",
            "[Epoch 47/300 Iter    18/18]: train_loss = 0.3985\n",
            "[Epoch 48/300 Iter    18/18]: train_loss = 0.5245\n",
            "[Epoch 49/300 Iter    18/18]: train_loss = 0.4366\n",
            "[Epoch 50/300 Iter    18/18]: train_loss = 0.3672\n",
            "[Epoch 51/300 Iter    18/18]: train_loss = 0.3064\n",
            "[Epoch 52/300 Iter    18/18]: train_loss = 0.3507\n",
            "[Epoch 53/300 Iter    18/18]: train_loss = 0.2844\n",
            "[Epoch 54/300 Iter    18/18]: train_loss = 0.2758\n",
            "[Epoch 55/300 Iter    18/18]: train_loss = 0.2429\n",
            "[Epoch 56/300 Iter    18/18]: train_loss = 0.2413\n",
            "[Epoch 57/300 Iter    18/18]: train_loss = 0.2619\n",
            "[Epoch 58/300 Iter    18/18]: train_loss = 0.4663\n",
            "[Epoch 59/300 Iter    18/18]: train_loss = 0.2929\n",
            "[Epoch 60/300 Iter    18/18]: train_loss = 0.3698\n",
            "[Epoch 61/300 Iter    18/18]: train_loss = 0.3291\n",
            "[Epoch 62/300 Iter    18/18]: train_loss = 0.2797\n",
            "[Epoch 63/300 Iter    18/18]: train_loss = 0.3346\n",
            "[Epoch 64/300 Iter    18/18]: train_loss = 0.2336\n",
            "[Epoch 65/300 Iter    18/18]: train_loss = 0.2009\n",
            "[Epoch 66/300 Iter    18/18]: train_loss = 0.1427\n",
            "[Epoch 67/300 Iter    18/18]: train_loss = 0.1661\n",
            "[Epoch 68/300 Iter    18/18]: train_loss = 0.1624\n",
            "[Epoch 69/300 Iter    18/18]: train_loss = 0.2526\n",
            "[Epoch 70/300 Iter    18/18]: train_loss = 0.2559\n",
            "[Epoch 71/300 Iter    18/18]: train_loss = 0.2553\n",
            "[Epoch 72/300 Iter    18/18]: train_loss = 0.2397\n",
            "[Epoch 73/300 Iter    18/18]: train_loss = 0.1602\n",
            "[Epoch 74/300 Iter    18/18]: train_loss = 0.1573\n",
            "[Epoch 75/300 Iter    18/18]: train_loss = 0.1146\n",
            "[Epoch 76/300 Iter    18/18]: train_loss = 0.1614\n",
            "[Epoch 77/300 Iter    18/18]: train_loss = 0.0880\n",
            "[Epoch 78/300 Iter    18/18]: train_loss = 0.0916\n",
            "[Epoch 79/300 Iter    18/18]: train_loss = 0.0635\n",
            "[Epoch 80/300 Iter    18/18]: train_loss = 0.0717\n",
            "[Epoch 81/300 Iter    18/18]: train_loss = 0.0579\n",
            "[Epoch 82/300 Iter    18/18]: train_loss = 0.0705\n",
            "[Epoch 83/300 Iter    18/18]: train_loss = 0.0737\n",
            "[Epoch 84/300 Iter    18/18]: train_loss = 0.0744\n",
            "[Epoch 85/300 Iter    18/18]: train_loss = 0.0803\n",
            "[Epoch 86/300 Iter    18/18]: train_loss = 0.1115\n",
            "[Epoch 87/300 Iter    18/18]: train_loss = 0.1358\n",
            "[Epoch 88/300 Iter    18/18]: train_loss = 0.1618\n",
            "[Epoch 89/300 Iter    18/18]: train_loss = 0.1652\n",
            "[Epoch 90/300 Iter    18/18]: train_loss = 0.1065\n",
            "[Epoch 91/300 Iter    18/18]: train_loss = 0.1161\n",
            "[Epoch 92/300 Iter    18/18]: train_loss = 0.1275\n",
            "[Epoch 93/300 Iter    18/18]: train_loss = 0.1937\n",
            "[Epoch 94/300 Iter    18/18]: train_loss = 0.1980\n",
            "[Epoch 95/300 Iter    18/18]: train_loss = 0.1959\n",
            "[Epoch 96/300 Iter    18/18]: train_loss = 0.1695\n",
            "[Epoch 97/300 Iter    18/18]: train_loss = 0.1034\n",
            "[Epoch 98/300 Iter    18/18]: train_loss = 0.0753\n",
            "[Epoch 99/300 Iter    18/18]: train_loss = 0.0682\n",
            "[Epoch 100/300 Iter    18/18]: train_loss = 0.0730\n",
            "[Epoch 101/300 Iter    18/18]: train_loss = 0.0436\n",
            "[Epoch 102/300 Iter    18/18]: train_loss = 0.0224\n",
            "[Epoch 103/300 Iter    18/18]: train_loss = 0.0376\n",
            "[Epoch 104/300 Iter    18/18]: train_loss = 0.0205\n",
            "[Epoch 105/300 Iter    18/18]: train_loss = 0.0146\n",
            "[Epoch 106/300 Iter    18/18]: train_loss = 0.0199\n",
            "[Epoch 107/300 Iter    18/18]: train_loss = 0.0339\n",
            "[Epoch 108/300 Iter    18/18]: train_loss = 0.0145\n",
            "[Epoch 109/300 Iter    18/18]: train_loss = 0.0193\n",
            "[Epoch 110/300 Iter    18/18]: train_loss = 0.0296\n",
            "[Epoch 111/300 Iter    18/18]: train_loss = 0.0194\n",
            "[Epoch 112/300 Iter    18/18]: train_loss = 0.0163\n",
            "[Epoch 113/300 Iter    18/18]: train_loss = 0.0482\n",
            "[Epoch 114/300 Iter    18/18]: train_loss = 0.0572\n",
            "[Epoch 115/300 Iter    18/18]: train_loss = 0.0637\n",
            "[Epoch 116/300 Iter    18/18]: train_loss = 0.0433\n",
            "[Epoch 117/300 Iter    18/18]: train_loss = 0.0233\n",
            "[Epoch 118/300 Iter    18/18]: train_loss = 0.0810\n",
            "[Epoch 119/300 Iter    18/18]: train_loss = 0.0902\n",
            "[Epoch 120/300 Iter    18/18]: train_loss = 0.0595\n",
            "[Epoch 121/300 Iter    18/18]: train_loss = 0.0573\n",
            "[Epoch 122/300 Iter    18/18]: train_loss = 0.0513\n",
            "[Epoch 123/300 Iter    18/18]: train_loss = 0.1281\n",
            "[Epoch 124/300 Iter    18/18]: train_loss = 0.1283\n",
            "[Epoch 125/300 Iter    18/18]: train_loss = 0.0791\n",
            "[Epoch 126/300 Iter    18/18]: train_loss = 0.0402\n",
            "[Epoch 127/300 Iter    18/18]: train_loss = 0.0399\n",
            "[Epoch 128/300 Iter    18/18]: train_loss = 0.0284\n",
            "[Epoch 129/300 Iter    18/18]: train_loss = 0.0217\n",
            "[Epoch 130/300 Iter    18/18]: train_loss = 0.0446\n",
            "[Epoch 131/300 Iter    18/18]: train_loss = 0.0192\n",
            "[Epoch 132/300 Iter    18/18]: train_loss = 0.0370\n",
            "[Epoch 133/300 Iter    18/18]: train_loss = 0.0169\n",
            "[Epoch 134/300 Iter    18/18]: train_loss = 0.0147\n",
            "[Epoch 135/300 Iter    18/18]: train_loss = 0.0238\n",
            "[Epoch 136/300 Iter    18/18]: train_loss = 0.0579\n",
            "[Epoch 137/300 Iter    18/18]: train_loss = 0.0486\n",
            "[Epoch 138/300 Iter    18/18]: train_loss = 0.0579\n",
            "[Epoch 139/300 Iter    18/18]: train_loss = 0.0987\n",
            "[Epoch 140/300 Iter    18/18]: train_loss = 0.0375\n",
            "[Epoch 141/300 Iter    18/18]: train_loss = 0.0499\n",
            "[Epoch 142/300 Iter    18/18]: train_loss = 0.0307\n",
            "[Epoch 143/300 Iter    18/18]: train_loss = 0.0335\n",
            "[Epoch 144/300 Iter    18/18]: train_loss = 0.0297\n",
            "[Epoch 145/300 Iter    18/18]: train_loss = 0.0488\n",
            "[Epoch 146/300 Iter    18/18]: train_loss = 0.0286\n",
            "[Epoch 147/300 Iter    18/18]: train_loss = 0.0282\n",
            "[Epoch 148/300 Iter    18/18]: train_loss = 0.0208\n",
            "[Epoch 149/300 Iter    18/18]: train_loss = 0.0180\n",
            "[Epoch 150/300 Iter    18/18]: train_loss = 0.0162\n",
            "[Epoch 151/300 Iter    18/18]: train_loss = 0.0198\n",
            "[Epoch 152/300 Iter    18/18]: train_loss = 0.0273\n",
            "[Epoch 153/300 Iter    18/18]: train_loss = 0.0352\n",
            "[Epoch 154/300 Iter    18/18]: train_loss = 0.0515\n",
            "[Epoch 155/300 Iter    18/18]: train_loss = 0.0275\n",
            "[Epoch 156/300 Iter    18/18]: train_loss = 0.0488\n",
            "[Epoch 157/300 Iter    18/18]: train_loss = 0.0445\n",
            "[Epoch 158/300 Iter    18/18]: train_loss = 0.0557\n",
            "[Epoch 159/300 Iter    18/18]: train_loss = 0.0782\n",
            "[Epoch 160/300 Iter    18/18]: train_loss = 0.0665\n",
            "[Epoch 161/300 Iter    18/18]: train_loss = 0.0700\n",
            "[Epoch 162/300 Iter    18/18]: train_loss = 0.0444\n",
            "[Epoch 163/300 Iter    18/18]: train_loss = 0.0324\n",
            "[Epoch 164/300 Iter    18/18]: train_loss = 0.0288\n",
            "[Epoch 165/300 Iter    18/18]: train_loss = 0.0220\n",
            "[Epoch 166/300 Iter    18/18]: train_loss = 0.0096\n",
            "[Epoch 167/300 Iter    18/18]: train_loss = 0.0181\n",
            "[Epoch 168/300 Iter    18/18]: train_loss = 0.0283\n",
            "[Epoch 169/300 Iter    18/18]: train_loss = 0.0127\n",
            "[Epoch 170/300 Iter    18/18]: train_loss = 0.0134\n",
            "[Epoch 171/300 Iter    18/18]: train_loss = 0.0145\n",
            "[Epoch 172/300 Iter    18/18]: train_loss = 0.0067\n",
            "[Epoch 173/300 Iter    18/18]: train_loss = 0.0132\n",
            "[Epoch 174/300 Iter    18/18]: train_loss = 0.0087\n",
            "[Epoch 175/300 Iter    18/18]: train_loss = 0.0063\n",
            "[Epoch 176/300 Iter    18/18]: train_loss = 0.0047\n",
            "[Epoch 177/300 Iter    18/18]: train_loss = 0.0055\n",
            "[Epoch 178/300 Iter    18/18]: train_loss = 0.0046\n",
            "[Epoch 179/300 Iter    18/18]: train_loss = 0.0060\n",
            "[Epoch 180/300 Iter    18/18]: train_loss = 0.0257\n",
            "[Epoch 181/300 Iter    18/18]: train_loss = 0.0186\n",
            "[Epoch 182/300 Iter    18/18]: train_loss = 0.0170\n",
            "[Epoch 183/300 Iter    18/18]: train_loss = 0.0111\n",
            "[Epoch 184/300 Iter    18/18]: train_loss = 0.0123\n",
            "[Epoch 185/300 Iter    18/18]: train_loss = 0.0049\n",
            "[Epoch 186/300 Iter    18/18]: train_loss = 0.0076\n",
            "[Epoch 187/300 Iter    18/18]: train_loss = 0.0019\n",
            "[Epoch 188/300 Iter    18/18]: train_loss = 0.0035\n",
            "[Epoch 189/300 Iter    18/18]: train_loss = 0.0037\n",
            "[Epoch 190/300 Iter    18/18]: train_loss = 0.0034\n",
            "[Epoch 191/300 Iter    18/18]: train_loss = 0.0039\n",
            "[Epoch 192/300 Iter    18/18]: train_loss = 0.0038\n",
            "[Epoch 193/300 Iter    18/18]: train_loss = 0.0069\n",
            "[Epoch 194/300 Iter    18/18]: train_loss = 0.0166\n",
            "[Epoch 195/300 Iter    18/18]: train_loss = 0.0189\n",
            "[Epoch 196/300 Iter    18/18]: train_loss = 0.0300\n",
            "[Epoch 197/300 Iter    18/18]: train_loss = 0.0370\n",
            "[Epoch 198/300 Iter    18/18]: train_loss = 0.0272\n",
            "[Epoch 199/300 Iter    18/18]: train_loss = 0.0463\n",
            "[Epoch 200/300 Iter    18/18]: train_loss = 0.0441\n",
            "[Epoch 201/300 Iter    18/18]: train_loss = 0.0262\n",
            "[Epoch 202/300 Iter    18/18]: train_loss = 0.0217\n",
            "[Epoch 203/300 Iter    18/18]: train_loss = 0.0160\n",
            "[Epoch 204/300 Iter    18/18]: train_loss = 0.0214\n",
            "[Epoch 205/300 Iter    18/18]: train_loss = 0.0163\n",
            "[Epoch 206/300 Iter    18/18]: train_loss = 0.0226\n",
            "[Epoch 207/300 Iter    18/18]: train_loss = 0.0133\n",
            "[Epoch 208/300 Iter    18/18]: train_loss = 0.0153\n",
            "[Epoch 209/300 Iter    18/18]: train_loss = 0.0152\n",
            "[Epoch 210/300 Iter    18/18]: train_loss = 0.0194\n",
            "[Epoch 211/300 Iter    18/18]: train_loss = 0.0131\n",
            "[Epoch 212/300 Iter    18/18]: train_loss = 0.0140\n",
            "[Epoch 213/300 Iter    18/18]: train_loss = 0.0235\n",
            "[Epoch 214/300 Iter    18/18]: train_loss = 0.0293\n",
            "[Epoch 215/300 Iter    18/18]: train_loss = 0.0226\n",
            "[Epoch 216/300 Iter    18/18]: train_loss = 0.0112\n",
            "[Epoch 217/300 Iter    18/18]: train_loss = 0.0066\n",
            "[Epoch 218/300 Iter    18/18]: train_loss = 0.0044\n",
            "[Epoch 219/300 Iter    18/18]: train_loss = 0.0134\n",
            "[Epoch 220/300 Iter    18/18]: train_loss = 0.0221\n",
            "[Epoch 221/300 Iter    18/18]: train_loss = 0.0342\n",
            "[Epoch 222/300 Iter    18/18]: train_loss = 0.0269\n",
            "[Epoch 223/300 Iter    18/18]: train_loss = 0.0605\n",
            "[Epoch 224/300 Iter    18/18]: train_loss = 0.0621\n",
            "[Epoch 225/300 Iter    18/18]: train_loss = 0.0489\n",
            "[Epoch 226/300 Iter    18/18]: train_loss = 0.0461\n",
            "[Epoch 227/300 Iter    18/18]: train_loss = 0.0413\n",
            "[Epoch 228/300 Iter    18/18]: train_loss = 0.0319\n",
            "[Epoch 229/300 Iter    18/18]: train_loss = 0.0318\n",
            "[Epoch 230/300 Iter    18/18]: train_loss = 0.0307\n",
            "[Epoch 231/300 Iter    18/18]: train_loss = 0.0127\n",
            "[Epoch 232/300 Iter    18/18]: train_loss = 0.0443\n",
            "[Epoch 233/300 Iter    18/18]: train_loss = 0.0259\n",
            "[Epoch 234/300 Iter    18/18]: train_loss = 0.0156\n",
            "[Epoch 235/300 Iter    18/18]: train_loss = 0.0359\n",
            "[Epoch 236/300 Iter    18/18]: train_loss = 0.0388\n",
            "[Epoch 237/300 Iter    18/18]: train_loss = 0.0539\n",
            "[Epoch 238/300 Iter    18/18]: train_loss = 0.0259\n",
            "[Epoch 239/300 Iter    18/18]: train_loss = 0.0150\n",
            "[Epoch 240/300 Iter    18/18]: train_loss = 0.0087\n",
            "[Epoch 241/300 Iter    18/18]: train_loss = 0.0082\n",
            "[Epoch 242/300 Iter    18/18]: train_loss = 0.0119\n",
            "[Epoch 243/300 Iter    18/18]: train_loss = 0.0065\n",
            "[Epoch 244/300 Iter    18/18]: train_loss = 0.0137\n",
            "[Epoch 245/300 Iter    18/18]: train_loss = 0.0189\n",
            "[Epoch 246/300 Iter    18/18]: train_loss = 0.0174\n",
            "[Epoch 247/300 Iter    18/18]: train_loss = 0.0358\n",
            "[Epoch 248/300 Iter    18/18]: train_loss = 0.0348\n",
            "[Epoch 249/300 Iter    18/18]: train_loss = 0.0387\n",
            "[Epoch 250/300 Iter    18/18]: train_loss = 0.0117\n",
            "[Epoch 251/300 Iter    18/18]: train_loss = 0.0230\n",
            "[Epoch 252/300 Iter    18/18]: train_loss = 0.0185\n",
            "[Epoch 253/300 Iter    18/18]: train_loss = 0.0179\n",
            "[Epoch 254/300 Iter    18/18]: train_loss = 0.0080\n",
            "[Epoch 255/300 Iter    18/18]: train_loss = 0.0080\n",
            "[Epoch 256/300 Iter    18/18]: train_loss = 0.0050\n",
            "[Epoch 257/300 Iter    18/18]: train_loss = 0.0152\n",
            "[Epoch 258/300 Iter    18/18]: train_loss = 0.0259\n",
            "[Epoch 259/300 Iter    18/18]: train_loss = 0.0195\n",
            "[Epoch 260/300 Iter    18/18]: train_loss = 0.0075\n",
            "[Epoch 261/300 Iter    18/18]: train_loss = 0.0072\n",
            "[Epoch 262/300 Iter    18/18]: train_loss = 0.0078\n",
            "[Epoch 263/300 Iter    18/18]: train_loss = 0.0022\n",
            "[Epoch 264/300 Iter    18/18]: train_loss = 0.0059\n",
            "[Epoch 265/300 Iter    18/18]: train_loss = 0.0096\n",
            "[Epoch 266/300 Iter    18/18]: train_loss = 0.0054\n",
            "[Epoch 267/300 Iter    18/18]: train_loss = 0.0120\n",
            "[Epoch 268/300 Iter    18/18]: train_loss = 0.0111\n",
            "[Epoch 269/300 Iter    18/18]: train_loss = 0.0349\n",
            "[Epoch 270/300 Iter    18/18]: train_loss = 0.0148\n",
            "[Epoch 271/300 Iter    18/18]: train_loss = 0.0164\n",
            "[Epoch 272/300 Iter    18/18]: train_loss = 0.0189\n",
            "[Epoch 273/300 Iter    18/18]: train_loss = 0.0051\n",
            "[Epoch 274/300 Iter    18/18]: train_loss = 0.0028\n",
            "[Epoch 275/300 Iter    18/18]: train_loss = 0.0035\n",
            "[Epoch 276/300 Iter    18/18]: train_loss = 0.0020\n",
            "[Epoch 277/300 Iter    18/18]: train_loss = 0.0050\n",
            "[Epoch 278/300 Iter    18/18]: train_loss = 0.0029\n",
            "[Epoch 279/300 Iter    18/18]: train_loss = 0.0012\n",
            "[Epoch 280/300 Iter    18/18]: train_loss = 0.0031\n",
            "[Epoch 281/300 Iter    18/18]: train_loss = 0.0049\n",
            "[Epoch 282/300 Iter    18/18]: train_loss = 0.0141\n",
            "[Epoch 283/300 Iter    18/18]: train_loss = 0.0095\n",
            "[Epoch 284/300 Iter    18/18]: train_loss = 0.0045\n",
            "[Epoch 285/300 Iter    18/18]: train_loss = 0.0299\n",
            "[Epoch 286/300 Iter    18/18]: train_loss = 0.0072\n",
            "[Epoch 287/300 Iter    18/18]: train_loss = 0.0053\n",
            "[Epoch 288/300 Iter    18/18]: train_loss = 0.0069\n",
            "[Epoch 289/300 Iter    18/18]: train_loss = 0.0078\n",
            "[Epoch 290/300 Iter    18/18]: train_loss = 0.0102\n",
            "[Epoch 291/300 Iter    18/18]: train_loss = 0.0053\n",
            "[Epoch 292/300 Iter    18/18]: train_loss = 0.0095\n",
            "[Epoch 293/300 Iter    18/18]: train_loss = 0.0071\n",
            "[Epoch 294/300 Iter    18/18]: train_loss = 0.0089\n",
            "[Epoch 295/300 Iter    18/18]: train_loss = 0.0051\n",
            "[Epoch 296/300 Iter    18/18]: train_loss = 0.0258\n",
            "[Epoch 297/300 Iter    18/18]: train_loss = 0.0212\n",
            "[Epoch 298/300 Iter    18/18]: train_loss = 0.0326\n",
            "[Epoch 299/300 Iter    18/18]: train_loss = 0.0249\n",
            "[Epoch 300/300 Iter    18/18]: train_loss = 0.0465\n"
          ],
          "name": "stdout"
        }
      ]
    },
    {
      "cell_type": "code",
      "metadata": {
        "id": "jEREMRc1YPF6",
        "colab": {
          "base_uri": "https://localhost:8080/"
        },
        "outputId": "7c0bf1ed-cc1f-4f03-d187-36b146dfe9cf"
      },
      "source": [
        "print(\"Training \")\n",
        "evaluate(mobile_net_modified,train_loader)\n",
        "clear_lists()"
      ],
      "execution_count": null,
      "outputs": [
        {
          "output_type": "stream",
          "text": [
            "Training \n",
            "Accuracy = 99.82%\n"
          ],
          "name": "stdout"
        }
      ]
    },
    {
      "cell_type": "code",
      "metadata": {
        "colab": {
          "base_uri": "https://localhost:8080/"
        },
        "id": "II6k4uRQ9qoC",
        "outputId": "01ff585e-f2a6-4656-df01-a04ad1ea3d10"
      },
      "source": [
        "print(\"Validation :\")\n",
        "evaluate(mobile_net_modified,valid_loader)"
      ],
      "execution_count": null,
      "outputs": [
        {
          "output_type": "stream",
          "text": [
            "Validation :\n",
            "Accuracy = 54.55%\n"
          ],
          "name": "stdout"
        }
      ]
    },
    {
      "cell_type": "markdown",
      "metadata": {
        "id": "muqwgn5WbPtt"
      },
      "source": [
        "# **Section 8: Model Evaluation of Modified MobileNetV2**"
      ]
    },
    {
      "cell_type": "markdown",
      "metadata": {
        "id": "rqCOBCsswXzX"
      },
      "source": [
        "**1. Precision, Recall , F1 Score**"
      ]
    },
    {
      "cell_type": "markdown",
      "metadata": {
        "id": "9rnOn7RKhy2T"
      },
      "source": [
        "Form array list for labels during evaluation of valid_loader\n"
      ]
    },
    {
      "cell_type": "code",
      "metadata": {
        "colab": {
          "base_uri": "https://localhost:8080/"
        },
        "id": "UMakauviZ1DG",
        "outputId": "2d154eef-2820-4baf-a8ec-f9917be477f5"
      },
      "source": [
        "################################### Implemented by WAN KAR HOU and teammates on 4/10/2021 ###################################\n",
        "\n",
        "###Convert tensor to numpy####\n",
        "labels_com_list=[]\n",
        "for i in range(len(labels_list)):\n",
        "  labels_com_list.append(labels_list[i].detach().cpu().numpy())\n",
        "\n",
        "###Combine array together\n",
        "labels_arr=[]\n",
        "for i in range(len(labels_com_list)):\n",
        "    labels_arr=np.concatenate((labels_com_list[i],labels_arr))\n",
        "\n",
        "print(np.array(labels_arr))\n",
        "  "
      ],
      "execution_count": null,
      "outputs": [
        {
          "output_type": "stream",
          "text": [
            "[190. 190. 190. 190. 193. 193. 193. 193. 193. 193. 193. 193. 193. 193.\n",
            " 193. 193. 193. 193. 193. 162. 162. 162. 162. 162. 162. 165. 165. 165.\n",
            " 165. 165. 165. 165. 165. 165. 165. 165. 165. 165. 165. 165. 190. 190.\n",
            " 190. 190. 190. 190. 190. 190. 190. 190. 190. 107. 107. 107. 107. 107.\n",
            " 107. 107. 107. 108. 108. 108. 108. 108. 108. 108. 108. 108. 108. 108.\n",
            " 108. 108. 108. 108. 162. 162. 162. 162. 162. 162. 162. 162. 162.  94.\n",
            "  94.  94.  94.  94.  94.  94.  94.  94.  94. 103. 103. 103. 103. 103.\n",
            " 103. 103. 103. 103. 103. 103. 103. 103. 103. 103. 107. 107. 107. 107.\n",
            " 107. 107. 107.  89.  89.  89.  89.  89.  89.  89.  89.  89.  89.  89.\n",
            "  89.  90.  90.  90.  90.  90.  90.  90.  90.  90.  90.  90.  90.  90.\n",
            "  90.  90.  94.  94.  94.  94.  94.  66.  74.  74.  74.  74.  74.  74.\n",
            "  74.  74.  74.  74.  74.  74.  74.  78.  78.  78.  78.  78.  78.  78.\n",
            "  78.  78.  78.  78.  78.  78.  78.  78.  89.  89.  89.  54.  54.  54.\n",
            "  58.  58.  58.  58.  58.  58.  58.  58.  58.  58.  58.  58.  58.  58.\n",
            "  58.  66.  66.  66.  66.  66.  66.  66.  66.  66.  66.  66.  66.  66.\n",
            "  66.  35.  35.  35.  35.  35.  46.  46.  46.  46.  46.  46.  46.  46.\n",
            "  46.  46.  46.  46.  46.  46.  46.  54.  54.  54.  54.  54.  54.  54.\n",
            "  54.  54.  54.  54.  54.   4.   4.   4.   4.   4.   4.   4.  12.  12.\n",
            "  12.  12.  12.  12.  12.  12.  12.  12.  12.  12.  12.  12.  12.  35.\n",
            "  35.  35.  35.  35.  35.  35.  35.  35.  35.]\n"
          ],
          "name": "stdout"
        }
      ]
    },
    {
      "cell_type": "markdown",
      "metadata": {
        "id": "HHOmgqheiLFZ"
      },
      "source": [
        "Form array list for predicted output during evaluation of valid_loader"
      ]
    },
    {
      "cell_type": "code",
      "metadata": {
        "colab": {
          "base_uri": "https://localhost:8080/"
        },
        "id": "Q2w9HGmHoy_x",
        "outputId": "7a1d86c5-da1b-40a6-9657-af2b81070cec"
      },
      "source": [
        "################################### Implemented by WAN KAR HOU and teammates on 4/10/2021 ###################################\n",
        "pred_list=[]\n",
        "###Convert tensor to numpy\n",
        "for i in range(len(predicted_list)):\n",
        "  pred_list.append(predicted_list[i].detach().cpu().numpy())\n",
        "###Combine array together\n",
        "predicted_arr=[]\n",
        "for i in range(len(pred_list)):\n",
        "    predicted_arr=np.concatenate((pred_list[i],predicted_arr))\n",
        "print(predicted_arr)"
      ],
      "execution_count": null,
      "outputs": [
        {
          "output_type": "stream",
          "text": [
            "[190.  66. 193. 190. 103. 103. 193. 103.  90.  66.  12. 193.  78.  78.\n",
            "  12. 193.  90. 103.  90. 162. 162. 108. 162. 162. 162.  35.  90. 193.\n",
            "  90. 165. 165. 165. 165. 165. 165. 165. 165. 165. 165.  46. 190. 190.\n",
            " 190. 190. 190. 190. 190. 190.  66. 190. 190. 103.  74. 107. 107. 190.\n",
            " 107. 103.  54. 108. 108. 108. 108.  78. 108.  89.  74. 108. 108. 108.\n",
            " 108. 162. 108.  89. 162.  46. 162. 162. 165. 162. 162.  66.  90.  94.\n",
            "  94.  94.  94.  58.  94.  94.  94.  94.  94.  66.   4.  66. 103.  78.\n",
            "  89.  94. 103. 103. 103. 103. 103.  90. 103.  90. 107. 107. 103. 107.\n",
            " 190.  54. 107.  89.  89. 103.  89.  89. 103.  89.  89.  74.  89.  89.\n",
            "  89.  74. 103. 193.  90.  90.  89.  90. 103. 107.  35. 103. 108. 193.\n",
            "  78.  74.  94.  94.  54.  66. 108. 165.  74.  74.  74.  74.  74.  74.\n",
            "  74.  74.  74.  74.  78.  74.  74.  74.  78. 108.  90.  89.  78.  78.\n",
            " 190.  78.  78.  94. 107.  78. 107.  78.  89.  89.  89.  54.  35.  35.\n",
            "  58.  58.  90.  89. 103. 107. 103.  58. 103. 103.  58.  74. 103.  66.\n",
            "  58.  90.  66.  66. 190.  66.  66.  66.  66. 107.  90.  78.  54.  94.\n",
            "   4. 193.  78.  90. 193. 103.  46. 162.  46.  46.  35. 162.  46. 165.\n",
            "  46.  46.  46.  74.  46.  46.  46. 103. 165.  89.  54.  54. 165.  54.\n",
            "  35. 108.  90.  54.  74.   4.  90.   4.   4.   4.   4.   4.  12.  12.\n",
            "  35.  12.  12.  12.  66.  12.  12.  12.  12.  12.  12.  12.  12. 190.\n",
            " 103.   4.  90.  66.  58.  35.  66. 103.   4.]\n"
          ],
          "name": "stdout"
        }
      ]
    },
    {
      "cell_type": "markdown",
      "metadata": {
        "id": "SGAApC0EiXfg"
      },
      "source": [
        "Classification Report"
      ]
    },
    {
      "cell_type": "code",
      "metadata": {
        "colab": {
          "base_uri": "https://localhost:8080/"
        },
        "id": "MOpDzLrvwJF4",
        "outputId": "dadac4b1-dd02-485a-9d7c-46f846e9d070"
      },
      "source": [
        "################################### Implemented by WAN KAR HOU and teammates on 4/10/2021 ###################################\n",
        "print(classification_report(labels_arr, predicted_arr))"
      ],
      "execution_count": null,
      "outputs": [
        {
          "output_type": "stream",
          "text": [
            "              precision    recall  f1-score   support\n",
            "\n",
            "         4.0       0.60      0.86      0.71         7\n",
            "        12.0       0.87      0.87      0.87        15\n",
            "        35.0       0.12      0.07      0.09        15\n",
            "        46.0       0.83      0.67      0.74        15\n",
            "        54.0       0.56      0.33      0.42        15\n",
            "        58.0       0.71      0.33      0.45        15\n",
            "        66.0       0.35      0.40      0.38        15\n",
            "        74.0       0.57      0.92      0.71        13\n",
            "        78.0       0.47      0.47      0.47        15\n",
            "        89.0       0.63      0.80      0.71        15\n",
            "        90.0       0.16      0.20      0.18        15\n",
            "        94.0       0.79      0.73      0.76        15\n",
            "       103.0       0.25      0.47      0.33        15\n",
            "       107.0       0.58      0.47      0.52        15\n",
            "       108.0       0.67      0.67      0.67        15\n",
            "       162.0       0.77      0.67      0.71        15\n",
            "       165.0       0.67      0.67      0.67        15\n",
            "       190.0       0.71      0.80      0.75        15\n",
            "       193.0       0.33      0.20      0.25        15\n",
            "\n",
            "    accuracy                           0.55       275\n",
            "   macro avg       0.56      0.56      0.54       275\n",
            "weighted avg       0.56      0.55      0.54       275\n",
            "\n"
          ],
          "name": "stdout"
        }
      ]
    },
    {
      "cell_type": "code",
      "metadata": {
        "colab": {
          "base_uri": "https://localhost:8080/"
        },
        "id": "lBb3zaQ3eGQu",
        "outputId": "55fc3007-2bb8-435e-e5bf-0c18de0b7346"
      },
      "source": [
        "################################### Implemented by WAN KAR HOU and teammates on 4/10/2021 ###################################\n",
        "print('Precision={:.4f}'.format(precision_score(labels_arr,predicted_arr, pos_label='positive',average='micro')))\n",
        "print('Recall={:.4f} '.format(recall_score (labels_arr,predicted_arr,pos_label='positive',average='micro')))\n",
        "print('F1 Score ={:.4f}'.format(f1_score(labels_arr,predicted_arr,pos_label='positive',average='micro')))"
      ],
      "execution_count": null,
      "outputs": [
        {
          "output_type": "stream",
          "text": [
            "Precision=0.5455\n",
            "Recall=0.5455 \n",
            "F1 Score =0.5455\n"
          ],
          "name": "stdout"
        },
        {
          "output_type": "stream",
          "text": [
            "/usr/local/lib/python3.7/dist-packages/sklearn/metrics/_classification.py:1321: UserWarning: Note that pos_label (set to 'positive') is ignored when average != 'binary' (got 'micro'). You may use labels=[pos_label] to specify a single positive class.\n",
            "  % (pos_label, average), UserWarning)\n"
          ],
          "name": "stderr"
        }
      ]
    },
    {
      "cell_type": "markdown",
      "metadata": {
        "id": "T29R00vBJCIH"
      },
      "source": [
        "**2. Confusion matrix**"
      ]
    },
    {
      "cell_type": "markdown",
      "metadata": {
        "id": "mhkRCkeEic8h"
      },
      "source": [
        "Form a list for class of dataset"
      ]
    },
    {
      "cell_type": "code",
      "metadata": {
        "colab": {
          "base_uri": "https://localhost:8080/"
        },
        "id": "ucXFqfvbmT2W",
        "outputId": "8e2c5f9b-497c-46cd-a43c-61813dc1c47f"
      },
      "source": [
        " ################################### Implemented by WAN KAR HOU and teammates on 4/10/2021 ###################################\n",
        " cm_labels_list=classes[\"class\"].tolist()\n",
        " print(cm_labels_list)"
      ],
      "execution_count": null,
      "outputs": [
        {
          "output_type": "stream",
          "text": [
            "['005.Crested_Auklet', '013.Bobolink', '036.Northern_Flicker', '047.American_Goldfinch', '055.Evening_Grosbeak', '059.California_Gull', '067.Anna_Hummingbird', '075.Green_Jay', '079.Belted_Kingfisher', '090.Red_breasted_Merganser', '091.Mockingbird', '095.Baltimore_Oriole', '104.American_Pipit', '108.White_necked_Raven', '109.American_Redstart', '163.Cape_May_Warbler', '166.Golden_winged_Warbler', '191.Red_headed_Woodpecker', '194.Cactus_Wren']\n"
          ],
          "name": "stdout"
        }
      ]
    },
    {
      "cell_type": "markdown",
      "metadata": {
        "id": "oT6w6BXCii9z"
      },
      "source": [
        "Show diagram of confusion matrix"
      ]
    },
    {
      "cell_type": "code",
      "metadata": {
        "colab": {
          "base_uri": "https://localhost:8080/",
          "height": 820
        },
        "id": "AcQEPzIJhXR9",
        "outputId": "9a680dd6-09eb-4e1a-d5ae-16f23beff330"
      },
      "source": [
        "cm = confusion_matrix (labels_arr, predicted_arr)\n",
        "print(cm)\n",
        "df_cm = pd.DataFrame(cm,cm_labels_list, cm_labels_list)\n",
        "# plt.figure(figsize=(10,7))\n",
        "sn.set(font_scale=1.4) # for label size\n",
        "sn.heatmap(df_cm, annot=True, annot_kws={\"size\":\"20\" }) # font size\n",
        "\n",
        "plt.show()"
      ],
      "execution_count": null,
      "outputs": [
        {
          "output_type": "stream",
          "text": [
            "[[ 6  0  0  0  0  0  0  0  0  0  1  0  0  0  0  0  0  0  0]\n",
            " [ 0 13  1  0  0  0  1  0  0  0  0  0  0  0  0  0  0  0  0]\n",
            " [ 2  0  1  0  0  1  2  0  1  0  2  0  3  0  0  0  0  1  2]\n",
            " [ 0  0  1 10  0  0  0  1  0  0  0  0  0  0  0  2  1  0  0]\n",
            " [ 0  0  3  0  5  0  0  1  0  1  1  0  1  0  1  0  2  0  0]\n",
            " [ 0  0  0  0  0  5  1  1  0  1  1  0  5  1  0  0  0  0  0]\n",
            " [ 1  0  0  0  1  0  6  0  1  0  2  1  0  1  0  0  1  1  0]\n",
            " [ 0  0  0  0  0  0  0 12  1  0  0  0  0  0  0  0  0  0  0]\n",
            " [ 0  0  0  0  0  0  0  1  7  1  1  1  0  2  1  0  0  1  0]\n",
            " [ 0  0  0  0  0  0  0  1  0 12  0  0  2  0  0  0  0  0  0]\n",
            " [ 0  0  1  0  0  0  0  2  1  1  3  0  3  1  1  0  0  0  2]\n",
            " [ 0  0  0  0  1  1  1  0  0  0  0 11  0  0  1  0  0  0  0]\n",
            " [ 1  0  0  0  0  0  2  0  1  1  2  1  7  0  0  0  0  0  0]\n",
            " [ 0  0  0  0  2  0  0  1  0  0  0  0  3  7  0  0  0  2  0]\n",
            " [ 0  0  0  0  0  0  0  1  1  2  0  0  0  0 10  1  0  0  0]\n",
            " [ 0  0  0  1  0  0  1  0  0  0  1  0  0  0  1 10  1  0  0]\n",
            " [ 0  0  1  1  0  0  0  0  0  0  2  0  0  0  0  0 10  0  1]\n",
            " [ 0  0  0  0  0  0  2  0  0  0  0  0  0  0  0  0  0 12  1]\n",
            " [ 0  2  0  0  0  0  1  0  2  0  3  0  4  0  0  0  0  0  3]]\n"
          ],
          "name": "stdout"
        },
        {
          "output_type": "display_data",
          "data": {
            "image/png": "[encoded data removed]",
            "text/plain": [
              "<Figure size 432x288 with 2 Axes>"
            ]
          },
          "metadata": {
            "tags": []
          }
        }
      ]
    },
    {
      "cell_type": "markdown",
      "metadata": {
        "id": "r7bIvTWSHMeW"
      },
      "source": [
        "# **Section 9: Compare accuracy between original    MobileNetV2 and modified MobileNetV2**\n",
        "\n",
        "Original MobileNetV2 achieves around 59.27% for validation accuracy while Modified MobileNetV2 achieves 54.55% for validation accuracy"
      ]
    },
    {
      "cell_type": "markdown",
      "metadata": {
        "id": "QaOJObz3Xt44"
      },
      "source": [
        "# **Section 10:Evaluate modified MobileNetV2with Testing Dataset**"
      ]
    },
    {
      "cell_type": "code",
      "metadata": {
        "colab": {
          "base_uri": "https://localhost:8080/"
        },
        "id": "djyQInK0YQrI",
        "outputId": "97968d8d-429b-49b9-e9c8-7c0c91449dbf"
      },
      "source": [
        "print(\"Testing\")\n",
        "evaluate(mobile_net_modified,testing_loader)\n",
        "clear_lists()"
      ],
      "execution_count": null,
      "outputs": [
        {
          "output_type": "stream",
          "text": [
            "Testing\n",
            "Accuracy = 47.08%\n"
          ],
          "name": "stdout"
        }
      ]
    },
    {
      "cell_type": "markdown",
      "metadata": {
        "id": "P3EjPSEDcTgE"
      },
      "source": [
        "# **Section 11: Deploy Model**"
      ]
    },
    {
      "cell_type": "markdown",
      "metadata": {
        "id": "u5MKaDUWGEc0"
      },
      "source": [
        "**1. Convert Pytorch model into TorchScript format**\n",
        "\n",
        "In order for pytorch model to be implement into Android app , it had to be converted to torchscript format\n"
      ]
    },
    {
      "cell_type": "code",
      "metadata": {
        "id": "jjv1WELGC6z7"
      },
      "source": [
        "################################### Implemented by WAN KAR HOU and teammates on 4/10/2021 ###################################\n",
        "mobile_net_convert=models.mobilenet_v2(pretrained=False)\n",
        "\n",
        "module=nn.Sequential(\n",
        "          nn.AdaptiveAvgPool2d((1,1)).cuda(),\n",
        "            )\n",
        "mobile_net_convert.features.add_module(\"AVG\",module)\n",
        "\n",
        "mobile_net_convert.classifier=nn.Sequential(\n",
        "            nn.Dropout(0.2),\n",
        "            nn.Linear(1280,800),\n",
        "  )\n",
        "mobile_net_convert.fc =nn.Sequential(\n",
        "                          nn.Linear(800,19),\n",
        "                        )\n"
      ],
      "execution_count": null,
      "outputs": []
    },
    {
      "cell_type": "code",
      "metadata": {
        "id": "8kQ-ne8GGjot"
      },
      "source": [
        "input_tensor = torch.rand(1,3,256,256)\n",
        "mobile_net_convert.eval()\n",
        "script_model = torch.jit.trace(mobile_net_convert,input_tensor)\n",
        "script_model.save(\"BirdSpeciesClassifierWithMobileNetV2.pt\")"
      ],
      "execution_count": null,
      "outputs": []
    }
  ]
}